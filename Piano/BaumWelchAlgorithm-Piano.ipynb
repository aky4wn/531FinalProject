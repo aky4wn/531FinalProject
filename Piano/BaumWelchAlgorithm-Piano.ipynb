{
 "cells": [
  {
   "cell_type": "code",
   "execution_count": 15,
   "metadata": {
    "collapsed": false,
    "scrolled": false
   },
   "outputs": [],
   "source": [
    "import numpy as np\n",
    "import pandas as pd\n",
    "import numba"
   ]
  },
  {
   "cell_type": "code",
   "execution_count": 9,
   "metadata": {
    "collapsed": false
   },
   "outputs": [],
   "source": [
    "clair = pd.read_csv(\"CSV/clair-de-lune.csv\", skiprows = 192, header = None).dropna(axis = 0)\n",
    "dvorak = pd.read_csv(\"CSV/Dvorak9Largo.csv\", skiprows = 98, header = None).dropna(axis = 0)\n",
    "jupiter = pd.read_csv(\"CSV/Jupiter.csv\", skiprows = 39, header = None).dropna(axis = 0)\n",
    "pachelbel = pd.read_csv(\"CSV/pachelbel.csv\", skiprows = 27, header = None).dropna(axis = 0)"
   ]
  },
  {
   "cell_type": "code",
   "execution_count": 10,
   "metadata": {
    "collapsed": false
   },
   "outputs": [],
   "source": [
    "#Select Notes and velocity columns#\n",
    "Cnotes = clair.ix[:,4]\n",
    "Cvelocity = clair.ix[:,5]\n",
    "\n",
    "#Find possible unique notes and velocities\n",
    "CpossibleNotes = np.unique(Cnotes)\n",
    "CpossibleVelocities =  np.unique(Cvelocity)\n",
    "\n",
    "\n",
    "#Select Notes and velocity columns#\n",
    "Dnotes = dvorak.ix[:,4]\n",
    "Dvelocity = dvorak.ix[:,5]\n",
    "\n",
    "#Find possible unique notes and velocities\n",
    "DpossibleNotes = np.unique(Dnotes)\n",
    "DpossibleVelocities =  np.unique(Dvelocity)\n",
    "\n",
    "#Select Notes and velocity columns#\n",
    "Jnotes = jupiter.ix[:,4]\n",
    "Jvelocity = jupiter.ix[:,5]\n",
    "\n",
    "#Find possible unique notes and velocities\n",
    "JpossibleNotes = np.unique(Jnotes)\n",
    "JpossibleVelocities =  np.unique(Jvelocity)\n",
    "\n",
    "#Select Notes and velocity columns#\n",
    "Pnotes = pachelbel.ix[:,4]\n",
    "Pvelocity = pachelbel.ix[:,5]\n",
    "\n",
    "#Find possible unique notes and velocities\n",
    "PpossibleNotes = np.unique(Pnotes)\n",
    "PpossibleVelocities =  np.unique(Pvelocity)"
   ]
  },
  {
   "cell_type": "code",
   "execution_count": 11,
   "metadata": {
    "collapsed": false
   },
   "outputs": [],
   "source": [
    "Ck1 = len(CpossibleNotes)\n",
    "Ck2 = len(CpossibleVelocities)\n",
    "\n",
    "Dk1 = len(DpossibleNotes)\n",
    "Dk2 = len(DpossibleVelocities)\n",
    "\n",
    "Jk1 = len(JpossibleNotes)\n",
    "Jk2 = len(JpossibleVelocities)\n",
    "\n",
    "Pk1 = len(PpossibleNotes)\n",
    "Pk2 = len(PpossibleVelocities)\n"
   ]
  },
  {
   "cell_type": "code",
   "execution_count": 12,
   "metadata": {
    "collapsed": true
   },
   "outputs": [],
   "source": [
    "def encode(x, code):\n",
    "    output = np.zeros(len(x))\n",
    "    for i in range(0, len(x)):\n",
    "        output[i] = int(np.where(code == x[i])[0]) \n",
    "    return output"
   ]
  },
  {
   "cell_type": "code",
   "execution_count": 13,
   "metadata": {
    "collapsed": false
   },
   "outputs": [],
   "source": [
    "CxNotes = encode(Cnotes, CpossibleNotes)\n",
    "CxVel = encode(Cvelocity, CpossibleVelocities)\n",
    "\n",
    "DxNotes = encode(Dnotes, DpossibleNotes)\n",
    "DxVel = encode(Dvelocity, DpossibleVelocities)\n",
    "\n",
    "JxNotes = encode(Jnotes, JpossibleNotes)\n",
    "JxVel = encode(Jvelocity, JpossibleVelocities)\n",
    "\n",
    "PxNotes = encode(Pnotes, PpossibleNotes)\n",
    "PxVel = encode(Pvelocity, PpossibleVelocities)"
   ]
  },
  {
   "cell_type": "code",
   "execution_count": 16,
   "metadata": {
    "collapsed": false
   },
   "outputs": [],
   "source": [
    "#@numba.njit()\n",
    "#Function using the log-sum-exp trick#\n",
    "def logSumExp(a):\n",
    "    b = np.max(a)\n",
    "    return(b + np.log(np.sum(np.exp(a-b))))\n",
    "\n",
    "#####################\n",
    "##Forward Algorithm##\n",
    "#####################\n",
    "\n",
    "#Function to run forward algorithm, arguments are n = # obs, m = # states for z,#\n",
    "#k = # states for x, pi = initial distribution(m vector), \n",
    "#Tmat = transition matrix (mxm), phi = emission distribution (m x k matrix)#\n",
    "#x is the observed data#\n",
    "#takes log of pi, Tmat and phi\n",
    "@numba.jit()\n",
    "def forwardAlg(n, m, k, pi, Tmat, phi, x):\n",
    "    g = np.zeros((n,m))\n",
    "    for i in range(0,m):\n",
    "        g[0,i] = (pi[i]) + (phi[i, x[0]])\n",
    "    \n",
    "    for j in range(1, n):\n",
    "        for l in range(0, m):\n",
    "            g[j,l] = logSumExp(g[j-1, :]+(Tmat[:,l])+(phi[l,x[j]-1]))\n",
    "    return(g)\n",
    "\n",
    "def pForward(g, x):\n",
    "    pXf = logSumExp(g[len(x)-1,:])\n",
    "    return(pXf)"
   ]
  },
  {
   "cell_type": "code",
   "execution_count": 19,
   "metadata": {
    "collapsed": false
   },
   "outputs": [],
   "source": [
    "m = 10\n",
    "Cn1 = len(CxNotes)\n",
    "Cn2 = len(CxVel)\n",
    "\n",
    "Dn1 = len(DxNotes)\n",
    "Dn2 = len(DxVel)\n",
    "\n",
    "Jn1 = len(JxNotes)\n",
    "Jn2 = len(JxVel)\n",
    "\n",
    "Pn1 = len(PxNotes)\n",
    "Pn2 = len(PxVel)\n",
    "\n",
    "\n",
    "\n",
    "\n",
    "pi1 = np.full(m, 1/m)\n",
    "phi1 = np.full((m,k1), 1/k1)\n",
    "Tmat1 = np.full((m,m), 1/m)\n",
    "\n",
    "pi2 = np.full(m, 1/m)\n",
    "phi2 = np.full((m,k2), 1/k2)\n",
    "Tmat2 = np.full((m,m), 1/m)"
   ]
  },
  {
   "cell_type": "code",
   "execution_count": 47,
   "metadata": {
    "collapsed": false
   },
   "outputs": [
    {
     "name": "stderr",
     "output_type": "stream",
     "text": [
      "/Users/annayanchenko/anaconda3/lib/python3.5/site-packages/ipykernel/__main__.py:1: DeprecationWarning: using a non-integer number instead of an integer will result in an error in the future\n",
      "  if __name__ == '__main__':\n"
     ]
    },
    {
     "data": {
      "text/plain": [
       "-10190.648290046434"
      ]
     },
     "execution_count": 47,
     "metadata": {},
     "output_type": "execute_result"
    }
   ],
   "source": [
    "g = forwardAlg(n1,m,k1,np.log(pi1),np.log(Tmat1),np.log(phi1),xNotes)\n",
    "pXf = pForward(g,xNotes)\n",
    "pXf"
   ]
  },
  {
   "cell_type": "code",
   "execution_count": 17,
   "metadata": {
    "collapsed": false
   },
   "outputs": [],
   "source": [
    "@numba.jit()\n",
    "def backwardAlg(n, m, k, pi, Tmat, phi, x):\n",
    "    r = np.zeros((n,m))\n",
    "    for j in range(n-2, -1, -1):\n",
    "        for l in range(0, m):\n",
    "            r[j, l] = logSumExp(r[j+1,: ] + Tmat[l,:] + phi[:, x[j+1]])\n",
    "    \n",
    "    return(r)\n",
    "@numba.jit()\n",
    "#Function to return p(x_1:n) from matrix from backward algorithm\n",
    "def pBackward(r, pi, phi, x):\n",
    "    pXb = logSumExp(r[0,: ]+ pi +phi[:,x[0]])\n",
    "    return(pXb)"
   ]
  },
  {
   "cell_type": "code",
   "execution_count": 45,
   "metadata": {
    "collapsed": false,
    "scrolled": true
   },
   "outputs": [
    {
     "name": "stderr",
     "output_type": "stream",
     "text": [
      "/Users/annayanchenko/anaconda3/lib/python3.5/site-packages/ipykernel/__main__.py:1: DeprecationWarning: using a non-integer number instead of an integer will result in an error in the future\n",
      "  if __name__ == '__main__':\n",
      "/Users/annayanchenko/anaconda3/lib/python3.5/site-packages/ipykernel/__main__.py:2: DeprecationWarning: using a non-integer number instead of an integer will result in an error in the future\n",
      "  from ipykernel import kernelapp as app\n"
     ]
    },
    {
     "data": {
      "text/plain": [
       "-10190.648290046433"
      ]
     },
     "execution_count": 45,
     "metadata": {},
     "output_type": "execute_result"
    }
   ],
   "source": [
    "r = backwardAlg(n1, m, k1, np.log(pi1), np.log(Tmat1), np.log(phi1), xNotes)\n",
    "pBackward(r, np.log(pi1), np.log(phi1), xNotes)"
   ]
  },
  {
   "cell_type": "code",
   "execution_count": 18,
   "metadata": {
    "collapsed": false
   },
   "outputs": [],
   "source": [
    "@numba.jit()\n",
    "def BaumWelch(n, m, k, x, tol):\n",
    "    #randomly initialize pi, phi and T#\n",
    "    vals = np.random.rand(m)\n",
    "    pi = np.log(vals/np.sum(vals))\n",
    "    Tmat = np.zeros(shape = (m, m))\n",
    "    phi = np.zeros(shape = (m, k))\n",
    "    for i in range(0, m):\n",
    "        vals1 = np.random.rand(m)\n",
    "        Tmat[i, ] = np.log(vals1/np.sum(vals1))\n",
    "        vals2 = np.random.rand(k)\n",
    "        phi[i, ] = np.log(vals2/np.sum(vals2))\n",
    "    \n",
    "    iterations = 0\n",
    "    convergence = 0\n",
    "    pOld = 1E10\n",
    "    \n",
    "    #Initialize matricies for gamma and beta values#\n",
    "    gamma = np.zeros(shape = (n, m))\n",
    "    beta = np.zeros(shape = (n,m,m))\n",
    "    \n",
    "    #Stop iterations when log(p(x_1:n)) differs by tol between iterations#\n",
    "    while convergence == 0:\n",
    "        #Perform forward and backward algorithms# \n",
    "        g = forwardAlg(n, m, k, pi, Tmat, phi, x)\n",
    "        h = backwardAlg(n, m, k, pi, Tmat, phi, x)\n",
    "        pNew = pForward(g, x)\n",
    "        \n",
    "        ##E-Step##\n",
    "    \n",
    "        #Calculate gamma and beta#\n",
    "        for t in range(0, n):\n",
    "            gamma[t,] = g[t,] + h[t,] - pNew\n",
    "        for t in range(0, n):\n",
    "            for i in range(0, m):\n",
    "                for j in range(0, m):\n",
    "                    if t == 1:\n",
    "                        beta[t,i,j] = 1\n",
    "                    else:\n",
    "                        beta[t,i,j] = Tmat[i,j] + phi[j, x[t]] + g[t-1, i] + h[t, j] - pNew\n",
    "        ##M-Step##\n",
    "    \n",
    "        #Update pi, phi and Tmat#\n",
    "        pi = gamma[0,] - logSumExp(gamma[0,])\n",
    "        for i in range(0, m):\n",
    "            for j in range(0, m):\n",
    "                Tmat[i,j] = logSumExp(beta[range(1, n), i, j]) - logSumExp(beta[range(1,n), i, ])\n",
    "        for i in range(0,m):\n",
    "            for w in range(0, k):\n",
    "                indicies = np.where(x == w)\n",
    "                phi[i,w] = logSumExp(gamma[indicies, i]) - logSumExp(gamma[:,i])\n",
    "        \n",
    "        criteria = abs(pOld - pNew)\n",
    "        if criteria < tol:\n",
    "            convergence = 1\n",
    "        else:\n",
    "            convergence = 0\n",
    "            pOld = pNew\n",
    "            iterations +=1\n",
    "        return (iterations, pNew, np.exp(pi), np.exp(phi), np.exp(Tmat))\n",
    "        "
   ]
  },
  {
   "cell_type": "code",
   "execution_count": 20,
   "metadata": {
    "collapsed": false
   },
   "outputs": [
    {
     "name": "stderr",
     "output_type": "stream",
     "text": [
      "/Users/annayanchenko/anaconda3/lib/python3.5/site-packages/ipykernel/__main__.py:2: DeprecationWarning: using a non-integer number instead of an integer will result in an error in the future\n",
      "  from ipykernel import kernelapp as app\n",
      "/Users/annayanchenko/anaconda3/lib/python3.5/site-packages/ipykernel/__main__.py:3: DeprecationWarning: using a non-integer number instead of an integer will result in an error in the future\n",
      "  app.launch_new_instance()\n",
      "/Users/annayanchenko/anaconda3/lib/python3.5/site-packages/ipykernel/__main__.py:5: DeprecationWarning: using a non-integer number instead of an integer will result in an error in the future\n",
      "/Users/annayanchenko/anaconda3/lib/python3.5/site-packages/ipykernel/__main__.py:6: DeprecationWarning: using a non-integer number instead of an integer will result in an error in the future\n",
      "/Users/annayanchenko/anaconda3/lib/python3.5/site-packages/ipykernel/__main__.py:8: DeprecationWarning: using a non-integer number instead of an integer will result in an error in the future\n",
      "/Users/annayanchenko/anaconda3/lib/python3.5/site-packages/ipykernel/__main__.py:9: DeprecationWarning: using a non-integer number instead of an integer will result in an error in the future\n",
      "/Users/annayanchenko/anaconda3/lib/python3.5/site-packages/ipykernel/__main__.py:11: DeprecationWarning: using a non-integer number instead of an integer will result in an error in the future\n",
      "/Users/annayanchenko/anaconda3/lib/python3.5/site-packages/ipykernel/__main__.py:12: DeprecationWarning: using a non-integer number instead of an integer will result in an error in the future\n"
     ]
    }
   ],
   "source": [
    "np.random.seed(77)\n",
    "Cit1, Cp1, Cpi1, Cphi1, CTmat1 = BaumWelch(Cn1, 75, Ck1, CxNotes, 0.0001)\n",
    "Cit2, Cp2, Cpi2, Cphi2, CTmat2 = BaumWelch(Cn2, 75, Ck2, CxVel, 0.0001)\n",
    "\n",
    "Dit1, Dp1, Dpi1, Dphi1, DTmat1 = BaumWelch(Dn1, 75, Dk1, DxNotes, 0.0001)\n",
    "Dit2, Dp2, Dpi2, Dphi2, DTmat2 = BaumWelch(Dn2, 75, Dk2, DxVel, 0.0001)\n",
    "\n",
    "Jit1, Jp1, Jpi1, Jphi1, JTmat1 = BaumWelch(Jn1, 75, Jk1, JxNotes, 0.0001)\n",
    "Jit2, Jp2, Jpi2, Jphi2, JTmat2 = BaumWelch(Jn2, 75, Jk2, JxVel, 0.0001)\n",
    "\n",
    "Pit1, Pp1, Ppi1, Pphi1, PTmat1 = BaumWelch(Pn1, 75, Pk1, PxNotes, 0.0001)\n",
    "Pit2, Pp2, Ppi2, Pphi2, PTmat2 = BaumWelch(Pn2, 75, Pk2, PxVel, 0.0001)"
   ]
  },
  {
   "cell_type": "code",
   "execution_count": 21,
   "metadata": {
    "collapsed": false
   },
   "outputs": [],
   "source": [
    "def decode(x, code):\n",
    "    output = np.zeros(len(x))\n",
    "    for i in range(0, len(x)):\n",
    "        output[i] = code[x[i]]\n",
    "    return output"
   ]
  },
  {
   "cell_type": "code",
   "execution_count": 51,
   "metadata": {
    "collapsed": false
   },
   "outputs": [
    {
     "name": "stderr",
     "output_type": "stream",
     "text": [
      "/Users/annayanchenko/anaconda3/lib/python3.5/site-packages/ipykernel/__main__.py:4: DeprecationWarning: using a non-integer number instead of an integer will result in an error in the future\n"
     ]
    },
    {
     "data": {
      "text/plain": [
       "array([ 64.,  37.,  49., ...,  37.,  44.,  49.])"
      ]
     },
     "execution_count": 51,
     "metadata": {},
     "output_type": "execute_result"
    }
   ],
   "source": [
    "decode(xNotes,possibleNotes)"
   ]
  },
  {
   "cell_type": "code",
   "execution_count": 22,
   "metadata": {
    "collapsed": true
   },
   "outputs": [],
   "source": [
    "def hmm(n, pi, phi, Tmat, code):\n",
    "    m = Tmat.shape[0]\n",
    "    k = phi.shape[1]\n",
    "    zstates = range(0, m)\n",
    "    xstates = range(0, k)\n",
    "    z = np.zeros(n)\n",
    "    x = np.zeros(n)\n",
    "    z[0] = np.random.choice(zstates, size = 1, p = pi)\n",
    "    for j in range(1, n):\n",
    "        z[j] = np.random.choice(zstates, size = 1, p = Tmat[z[j-1], :])\n",
    "    for i in range(0, n):\n",
    "        x[i] = np.random.choice(xstates, size = 1, p = phi[z[i], :])\n",
    "    output = decode(x, code)\n",
    "    return output\n"
   ]
  },
  {
   "cell_type": "code",
   "execution_count": 23,
   "metadata": {
    "collapsed": false
   },
   "outputs": [
    {
     "name": "stderr",
     "output_type": "stream",
     "text": [
      "/Users/annayanchenko/anaconda3/lib/python3.5/site-packages/ipykernel/__main__.py:10: DeprecationWarning: using a non-integer number instead of an integer will result in an error in the future\n",
      "/Users/annayanchenko/anaconda3/lib/python3.5/site-packages/ipykernel/__main__.py:12: DeprecationWarning: using a non-integer number instead of an integer will result in an error in the future\n",
      "/Users/annayanchenko/anaconda3/lib/python3.5/site-packages/ipykernel/__main__.py:4: DeprecationWarning: using a non-integer number instead of an integer will result in an error in the future\n"
     ]
    }
   ],
   "source": [
    "CnewNotes = hmm(Cn1, Cpi1, Cphi1, CTmat1, CpossibleNotes)\n",
    "CnewVelocities = hmm(Cn2, Cpi2, Cphi2, CTmat2, CpossibleVelocities)\n",
    "\n",
    "DnewNotes = hmm(Dn1, Dpi1, Dphi1, DTmat1, DpossibleNotes)\n",
    "DnewVelocities = hmm(Dn2, Dpi2, Dphi2, DTmat2, DpossibleVelocities)\n",
    "\n",
    "JnewNotes = hmm(Jn1, Jpi1, Jphi1, JTmat1, JpossibleNotes)\n",
    "JnewVelocities = hmm(Jn2, Jpi2, Jphi2, JTmat2, JpossibleVelocities)\n",
    "\n",
    "PnewNotes = hmm(Pn1, Ppi1, Pphi1, PTmat1, PpossibleNotes)\n",
    "PnewVelocities = hmm(Pn2, Ppi2, Pphi2, PTmat2, PpossibleVelocities)"
   ]
  },
  {
   "cell_type": "code",
   "execution_count": 24,
   "metadata": {
    "collapsed": false
   },
   "outputs": [],
   "source": [
    "Coutput = pd.DataFrame(CnewNotes)\n",
    "Coutput[\"vel\"] = CnewVelocities\n",
    "Coutput.to_csv(\"clair-de-luneRemix.csv\")\n",
    "\n",
    "Doutput = pd.DataFrame(DnewNotes)\n",
    "Doutput[\"vel\"] = DnewVelocities\n",
    "Doutput.to_csv(\"Dvorak9Remix.csv\")\n",
    "\n",
    "Joutput = pd.DataFrame(JnewNotes)\n",
    "Joutput[\"vel\"] = JnewVelocities\n",
    "Joutput.to_csv(\"jupiterRemix.csv\")\n",
    "\n",
    "Poutput = pd.DataFrame(PnewNotes)\n",
    "Poutput[\"vel\"] = PnewVelocities\n",
    "Poutput.to_csv(\"pachelbelRemix.csv\")"
   ]
  },
  {
   "cell_type": "code",
   "execution_count": null,
   "metadata": {
    "collapsed": true
   },
   "outputs": [],
   "source": []
  }
 ],
 "metadata": {
  "kernelspec": {
   "display_name": "Python 3",
   "language": "python",
   "name": "python3"
  },
  "language_info": {
   "codemirror_mode": {
    "name": "ipython",
    "version": 3
   },
   "file_extension": ".py",
   "mimetype": "text/x-python",
   "name": "python",
   "nbconvert_exporter": "python",
   "pygments_lexer": "ipython3",
   "version": "3.5.1"
  }
 },
 "nbformat": 4,
 "nbformat_minor": 0
}
