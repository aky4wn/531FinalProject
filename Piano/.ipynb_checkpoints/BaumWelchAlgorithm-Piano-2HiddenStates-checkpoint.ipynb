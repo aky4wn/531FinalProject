{
 "cells": [
  {
   "cell_type": "code",
   "execution_count": 1,
   "metadata": {
    "collapsed": false,
    "scrolled": false
   },
   "outputs": [],
   "source": [
    "import numpy as np\n",
    "import pandas as pd\n",
    "import numba"
   ]
  },
  {
   "cell_type": "code",
   "execution_count": 97,
   "metadata": {
    "collapsed": false
   },
   "outputs": [],
   "source": [
    "clair = pd.read_csv(\"CSV/clair-de-lune.csv\", skiprows = 192, header = None).dropna(axis = 0)\n",
    "dvorak = pd.read_csv(\"CSV/Dvorak9Largo.csv\", skiprows = 98, header = None).dropna(axis = 0)\n",
    "jupiter = pd.read_csv(\"CSV/Jupiter.csv\", skiprows = 39, header = None).dropna(axis = 0)\n",
    "pachelbel = pd.read_csv(\"CSV/pachelbel.csv\", skiprows = 27, header = None).dropna(axis = 0)"
   ]
  },
  {
   "cell_type": "code",
   "execution_count": 98,
   "metadata": {
    "collapsed": false
   },
   "outputs": [],
   "source": [
    "#Select Notes and velocity columns#\n",
    "Cnotes = clair.ix[:,4]\n",
    "Cvelocity = clair.ix[:,5]\n",
    "\n",
    "#Find possible unique notes and velocities\n",
    "CpossibleNotes = np.unique(Cnotes)\n",
    "CpossibleVelocities =  np.unique(Cvelocity)\n",
    "\n",
    "\n",
    "#Select Notes and velocity columns#\n",
    "Dnotes = dvorak.ix[:,4]\n",
    "Dvelocity = dvorak.ix[:,5]\n",
    "\n",
    "#Find possible unique notes and velocities\n",
    "DpossibleNotes = np.unique(Dnotes)\n",
    "DpossibleVelocities =  np.unique(Dvelocity)\n",
    "\n",
    "#Select Notes and velocity columns#\n",
    "Jnotes = jupiter.ix[:,4]\n",
    "Jvelocity = jupiter.ix[:,5]\n",
    "\n",
    "#Find possible unique notes and velocities\n",
    "JpossibleNotes = np.unique(Jnotes)\n",
    "JpossibleVelocities =  np.unique(Jvelocity)\n",
    "\n",
    "#Select Notes and velocity columns#\n",
    "Pnotes = pachelbel.ix[:,4]\n",
    "Pvelocity = pachelbel.ix[:,5]\n",
    "\n",
    "#Find possible unique notes and velocities\n",
    "PpossibleNotes = np.unique(Pnotes)\n",
    "PpossibleVelocities =  np.unique(Pvelocity)"
   ]
  },
  {
   "cell_type": "code",
   "execution_count": 99,
   "metadata": {
    "collapsed": false
   },
   "outputs": [],
   "source": [
    "Ck1 = len(CpossibleNotes)\n",
    "Ck2 = len(CpossibleVelocities)\n",
    "\n",
    "Dk1 = len(DpossibleNotes)\n",
    "Dk2 = len(DpossibleVelocities)\n",
    "\n",
    "Jk1 = len(JpossibleNotes)\n",
    "Jk2 = len(JpossibleVelocities)\n",
    "\n",
    "Pk1 = len(PpossibleNotes)\n",
    "Pk2 = len(PpossibleVelocities)\n"
   ]
  },
  {
   "cell_type": "code",
   "execution_count": 5,
   "metadata": {
    "collapsed": true
   },
   "outputs": [],
   "source": [
    "def encode(x, code):\n",
    "    output = np.zeros(len(x))\n",
    "    for i in range(0, len(x)):\n",
    "        output[i] = int(np.where(code == x[i])[0]) \n",
    "    return output"
   ]
  },
  {
   "cell_type": "code",
   "execution_count": 100,
   "metadata": {
    "collapsed": false
   },
   "outputs": [],
   "source": [
    "CxNotes = encode(Cnotes, CpossibleNotes)\n",
    "CxVel = encode(Cvelocity, CpossibleVelocities)\n",
    "\n",
    "DxNotes = encode(Dnotes, DpossibleNotes)\n",
    "DxVel = encode(Dvelocity, DpossibleVelocities)\n",
    "\n",
    "JxNotes = encode(Jnotes, JpossibleNotes)\n",
    "JxVel = encode(Jvelocity, JpossibleVelocities)\n",
    "\n",
    "PxNotes = encode(Pnotes, PpossibleNotes)\n",
    "PxVel = encode(Pvelocity, PpossibleVelocities)"
   ]
  },
  {
   "cell_type": "code",
   "execution_count": 7,
   "metadata": {
    "collapsed": false
   },
   "outputs": [],
   "source": [
    "#@numba.njit()\n",
    "#Function using the log-sum-exp trick#\n",
    "def logSumExp(a):\n",
    "    b = np.max(a)\n",
    "    return(b + np.log(np.sum(np.exp(a-b))))\n",
    "\n",
    "#####################\n",
    "##Forward Algorithm##\n",
    "#####################\n",
    "\n",
    "#Function to run forward algorithm, arguments are n = # obs, m = # states for z,#\n",
    "#k = # states for x, pi = initial distribution(m vector), \n",
    "#Tmat = transition matrix (mxm), phi = emission distribution (m x k matrix)#\n",
    "#x is the observed data#\n",
    "#takes log of pi, Tmat and phi\n",
    "@numba.jit()\n",
    "def forwardAlg(n, m, k, pi, Tmat, phi, x):\n",
    "    g = np.zeros((n,m))\n",
    "    for i in range(0,m):\n",
    "        g[0,i] = (pi[i]) + (phi[i, x[0]])\n",
    "    \n",
    "    for j in range(1, n):\n",
    "        for l in range(0, m):\n",
    "            g[j,l] = logSumExp(g[j-1, :]+(Tmat[:,l])+(phi[l,x[j]-1]))\n",
    "    return(g)\n",
    "\n",
    "def pForward(g, x):\n",
    "    pXf = logSumExp(g[len(x)-1,:])\n",
    "    return(pXf)"
   ]
  },
  {
   "cell_type": "code",
   "execution_count": 101,
   "metadata": {
    "collapsed": false
   },
   "outputs": [],
   "source": [
    "m = 10\n",
    "Cn1 = len(CxNotes)\n",
    "Cn2 = len(CxVel)\n",
    "\n",
    "Dn1 = len(DxNotes)\n",
    "Dn2 = len(DxVel)\n",
    "\n",
    "Jn1 = len(JxNotes)\n",
    "Jn2 = len(JxVel)\n",
    "\n",
    "Pn1 = len(PxNotes)\n",
    "Pn2 = len(PxVel)\n",
    "\n",
    "\n"
   ]
  },
  {
   "cell_type": "code",
   "execution_count": 47,
   "metadata": {
    "collapsed": false
   },
   "outputs": [
    {
     "name": "stderr",
     "output_type": "stream",
     "text": [
      "/Users/annayanchenko/anaconda3/lib/python3.5/site-packages/ipykernel/__main__.py:1: DeprecationWarning: using a non-integer number instead of an integer will result in an error in the future\n",
      "  if __name__ == '__main__':\n"
     ]
    },
    {
     "data": {
      "text/plain": [
       "-10190.648290046434"
      ]
     },
     "execution_count": 47,
     "metadata": {},
     "output_type": "execute_result"
    }
   ],
   "source": [
    "g = forwardAlg(n1,m,k1,np.log(pi1),np.log(Tmat1),np.log(phi1),xNotes)\n",
    "pXf = pForward(g,xNotes)\n",
    "pXf"
   ]
  },
  {
   "cell_type": "code",
   "execution_count": 10,
   "metadata": {
    "collapsed": false
   },
   "outputs": [],
   "source": [
    "@numba.jit()\n",
    "def backwardAlg(n, m, k, pi, Tmat, phi, x):\n",
    "    r = np.zeros((n,m))\n",
    "    for j in range(n-2, -1, -1):\n",
    "        for l in range(0, m):\n",
    "            r[j, l] = logSumExp(r[j+1,: ] + Tmat[l,:] + phi[:, x[j+1]])\n",
    "    \n",
    "    return(r)\n",
    "@numba.jit()\n",
    "#Function to return p(x_1:n) from matrix from backward algorithm\n",
    "def pBackward(r, pi, phi, x):\n",
    "    pXb = logSumExp(r[0,: ]+ pi +phi[:,x[0]])\n",
    "    return(pXb)"
   ]
  },
  {
   "cell_type": "code",
   "execution_count": 45,
   "metadata": {
    "collapsed": false,
    "scrolled": true
   },
   "outputs": [
    {
     "name": "stderr",
     "output_type": "stream",
     "text": [
      "/Users/annayanchenko/anaconda3/lib/python3.5/site-packages/ipykernel/__main__.py:1: DeprecationWarning: using a non-integer number instead of an integer will result in an error in the future\n",
      "  if __name__ == '__main__':\n",
      "/Users/annayanchenko/anaconda3/lib/python3.5/site-packages/ipykernel/__main__.py:2: DeprecationWarning: using a non-integer number instead of an integer will result in an error in the future\n",
      "  from ipykernel import kernelapp as app\n"
     ]
    },
    {
     "data": {
      "text/plain": [
       "-10190.648290046433"
      ]
     },
     "execution_count": 45,
     "metadata": {},
     "output_type": "execute_result"
    }
   ],
   "source": [
    "r = backwardAlg(n1, m, k1, np.log(pi1), np.log(Tmat1), np.log(phi1), xNotes)\n",
    "pBackward(r, np.log(pi1), np.log(phi1), xNotes)"
   ]
  },
  {
   "cell_type": "code",
   "execution_count": 17,
   "metadata": {
    "collapsed": false
   },
   "outputs": [
    {
     "data": {
      "text/plain": [
       "array([[ 1.,  1.,  1.,  1.,  1.,  1.],\n",
       "       [ 1.,  1.,  1.,  1.,  1.,  1.],\n",
       "       [ 1.,  1.,  1.,  1.,  1.,  1.],\n",
       "       [ 1.,  1.,  1.,  1.,  1.,  1.],\n",
       "       [ 1.,  1.,  1.,  1.,  1.,  1.],\n",
       "       [ 1.,  1.,  1.,  1.,  1.,  1.]])"
      ]
     },
     "execution_count": 17,
     "metadata": {},
     "output_type": "execute_result"
    }
   ],
   "source": [
    "N = 2\n",
    "M = 3\n",
    "At = np.ones((N,N))\n",
    "Bt = np.ones((N,M,M))\n",
    "Tmat = np.zeros((N*M, N*M))\n",
    "count_ik = 0\n",
    "count_jl = 0\n",
    "count = 0\n",
    "for i in range(0,N):\n",
    "    for q in range(0,M):\n",
    "        count_jl = 0\n",
    "        for j in range(0, N):\n",
    "            for l in range(0,M):\n",
    "                \n",
    "                Tmat[count_ik,count_jl] = At[i,j]*Bt[j,q,l]\n",
    "                count_jl +=1\n",
    "        count_ik +=1\n",
    "Tmat"
   ]
  },
  {
   "cell_type": "code",
   "execution_count": 36,
   "metadata": {
    "collapsed": false
   },
   "outputs": [
    {
     "name": "stdout",
     "output_type": "stream",
     "text": [
      "0\n",
      "3\n",
      "1\n",
      "4\n",
      "2\n",
      "5\n"
     ]
    }
   ],
   "source": [
    "#output = [l[i:i+N] for i in range(0, len(l), N)]\n",
    "for j in range(0,M):\n",
    "    for i in range(j,N*M,M):\n",
    "        print(i)\n",
    "#     for q in range(i*M, (i+1)*M):\n",
    "#         print(q)\n"
   ]
  },
  {
   "cell_type": "code",
   "execution_count": 70,
   "metadata": {
    "collapsed": false
   },
   "outputs": [],
   "source": [
    "@numba.jit()\n",
    "def BaumWelch(n, M, N, k, x, tol):\n",
    "    #randomly initialize pi, phi and T#\n",
    "    vals = np.random.rand(N*M)\n",
    "    pi = np.log(vals/np.sum(vals))\n",
    "    A = np.zeros(shape = (N, N))\n",
    "    B = np.zeros(shape = (N, M, M))\n",
    "    phi = np.zeros(shape = (N*M, k))\n",
    "    for i in range(0, N):\n",
    "        vals1 = np.random.rand(N)\n",
    "        A[i, ] = np.log(vals1/np.sum(vals1))\n",
    "        for j in range(0, M):\n",
    "            vals3 = np.random.rand(M)\n",
    "            B[i,j,] = np.log(vals3/np.sum(vals3))\n",
    "    for i in range(0,N*M):\n",
    "        vals2 = np.random.rand(k)\n",
    "        phi[i, ] = np.log(vals2/np.sum(vals2))\n",
    "    \n",
    "    iterations = 0\n",
    "    convergence = 0\n",
    "    pOld = 1E10\n",
    "    \n",
    "    #Initialize matricies for gamma and beta values#\n",
    "    gamma = np.zeros(shape = (n, N*M))\n",
    "    beta = np.zeros(shape = (n,N*M,N*M))\n",
    "    \n",
    "    #Stop iterations when log(p(x_1:n)) differs by tol between iterations#\n",
    "    while convergence == 0:\n",
    "        \n",
    "        #Find Tmat which is AxB\n",
    "        Tmat = np.zeros((N*M, N*M))\n",
    "        count_ik = 0\n",
    "        count_jl = 0\n",
    "        count = 0\n",
    "        for i in range(0,N):\n",
    "            for q in range(0,M):\n",
    "                count_jl = 0\n",
    "                for j in range(0, N):\n",
    "                    for l in range(0,M):\n",
    "\n",
    "                        Tmat[count_ik,count_jl] = A[i,j] + B[j,q,l]\n",
    "                        count_jl +=1\n",
    "                count_ik +=1\n",
    "                \n",
    "        #Perform forward and backward algorithms# \n",
    "        g = forwardAlg(n, N*M, k, pi, Tmat, phi, x)\n",
    "        h = backwardAlg(n, N*M, k, pi, Tmat, phi, x)\n",
    "        pNew = pForward(g, x)\n",
    "        \n",
    "        ##E-Step##\n",
    "    \n",
    "        #Calculate gamma and beta#\n",
    "        for t in range(0, n):\n",
    "            gamma[t,] = g[t,] + h[t,] - pNew\n",
    "        for t in range(0, n):\n",
    "            for i in range(0, N*M):\n",
    "                for j in range(0, N*M):\n",
    "                    if t == 1:\n",
    "                        beta[t,i,j] = 1\n",
    "                    else:\n",
    "                        beta[t,i,j] = Tmat[i,j] + phi[j, x[t]] + g[t-1, i] + h[t, j] - pNew\n",
    "        ##M-Step##\n",
    "    \n",
    "        #Update pi, phi and Tmat#\n",
    "        pi = gamma[0,] - logSumExp(gamma[0,])\n",
    "        \n",
    "        \n",
    "        \n",
    "        for i in range(0,N):\n",
    "            for j in range(0,N):\n",
    "                Asums = []\n",
    "                for q in range(i*M, (i+1)*M):\n",
    "                    for l in range(j*M, (j+1)*M):\n",
    "                        Asums.append(logSumExp(beta[range(1,n),q,l]))\n",
    "\n",
    "                A[i,j] = logSumExp(Asums) \n",
    "        \n",
    "        A = np.log(np.exp(A)/np.sum(np.exp(A), axis = 1)[:, np.newaxis])\n",
    "        \n",
    "        for j in range(0,N):\n",
    "            for q in range(0,M):\n",
    "                for l in range(0,M):\n",
    "                    Bsums = []\n",
    "                    for i in range(q,N*M,M):\n",
    "                        Bsums.append(logSumExp(beta[range(1,n),i,M*j+l]))\n",
    "                    B[j,q,l] = logSumExp(Bsums) \n",
    "\n",
    "        B = np.log(np.exp(B)/np.sum(np.exp(B), axis = 2)[:,:,np.newaxis])\n",
    "        \n",
    "        for i in range(0,N*M):\n",
    "            for w in range(0, k):\n",
    "                indicies = np.where(x == w)\n",
    "                phi[i,w] = logSumExp(gamma[indicies, i]) - logSumExp(gamma[:,i])\n",
    "        \n",
    "        criteria = abs(pOld - pNew)\n",
    "        if criteria < tol:\n",
    "            convergence = 1\n",
    "        else:\n",
    "            convergence = 0\n",
    "            pOld = pNew\n",
    "            iterations +=1\n",
    "        return (iterations, pNew, np.exp(pi), np.exp(phi), np.exp(Tmat), np.exp(A), np.exp(B))\n",
    "        "
   ]
  },
  {
   "cell_type": "code",
   "execution_count": null,
   "metadata": {
    "collapsed": false
   },
   "outputs": [
    {
     "name": "stderr",
     "output_type": "stream",
     "text": [
      "/Users/annayanchenko/anaconda3/lib/python3.5/site-packages/ipykernel/__main__.py:2: DeprecationWarning: using a non-integer number instead of an integer will result in an error in the future\n",
      "  from ipykernel import kernelapp as app\n",
      "/Users/annayanchenko/anaconda3/lib/python3.5/site-packages/ipykernel/__main__.py:3: DeprecationWarning: using a non-integer number instead of an integer will result in an error in the future\n",
      "  app.launch_new_instance()\n",
      "/Users/annayanchenko/anaconda3/lib/python3.5/site-packages/ipykernel/__main__.py:5: DeprecationWarning: using a non-integer number instead of an integer will result in an error in the future\n",
      "/Users/annayanchenko/anaconda3/lib/python3.5/site-packages/ipykernel/__main__.py:6: DeprecationWarning: using a non-integer number instead of an integer will result in an error in the future\n"
     ]
    }
   ],
   "source": [
    "np.random.seed(77)\n",
    "Cit1, Cp1, Cpi1, Cphi1, CTmat1, CA1, CB1 = BaumWelch(Cn1, 10, 15, Ck1, CxNotes, 0.01)\n",
    "Cit2, Cp2, Cpi2, Cphi2, CTmat2, CA2, CB2 = BaumWelch(Cn2, 10, 15, Ck2, CxVel, 0.01)\n",
    "\n",
    "Dit1, Dp1, Dpi1, Dphi1, DTmat1, DA1, DB1 = BaumWelch(Dn1, 10, 15, Dk1, DxNotes, 0.01)\n",
    "Dit2, Dp2, Dpi2, Dphi2, DTmat2, DA2, DB2 = BaumWelch(Dn2, 10, 15, Dk2, DxVel, 0.01)\n",
    "\n",
    "# Jit1, Jp1, Jpi1, Jphi1, JTmat1, JA1, JB1 = BaumWelch(Jn1, 10,15, Jk1, JxNotes, 0.01)\n",
    "# Jit2, Jp2, Jpi2, Jphi2, JTmat2, JA2, JB2 = BaumWelch(Jn2, 10, 15, Jk2, JxVel, 0.01)\n",
    "\n",
    "Pit1, Pp1, Ppi1, Pphi1, PTmat1, PA1, PB1 = BaumWelch(Pn1, 10, 15, Pk1, PxNotes, 0.01)\n",
    "Pit2, Pp2, Ppi2, Pphi2, PTmat2, PA2, PB2 = BaumWelch(Pn2, 10, 15, Pk2, PxVel, 0.01)"
   ]
  },
  {
   "cell_type": "code",
   "execution_count": 80,
   "metadata": {
    "collapsed": false
   },
   "outputs": [
    {
     "data": {
      "text/plain": [
       "array([[ 0.06658621,  0.06662086,  0.06664607,  0.06665262,  0.06665626,\n",
       "         0.06672215,  0.06680797,  0.06666231,  0.06658309,  0.06660051,\n",
       "         0.06666966,  0.06672067,  0.06679515,  0.06661199,  0.06666449],\n",
       "       [ 0.06658393,  0.06659179,  0.06666926,  0.06677365,  0.06670953,\n",
       "         0.06666468,  0.06672988,  0.06663478,  0.06671829,  0.0666793 ,\n",
       "         0.06662215,  0.06671069,  0.06661376,  0.06655978,  0.06673855],\n",
       "       [ 0.06670022,  0.06665726,  0.06659533,  0.06661806,  0.06668041,\n",
       "         0.06659697,  0.06666382,  0.06670335,  0.06665937,  0.06668081,\n",
       "         0.06672259,  0.06672374,  0.06660558,  0.06671536,  0.06667712],\n",
       "       [ 0.06657743,  0.06670909,  0.0665961 ,  0.06665518,  0.06675621,\n",
       "         0.06672827,  0.06673729,  0.06671742,  0.0667254 ,  0.06659915,\n",
       "         0.06659227,  0.06663214,  0.06676997,  0.06662394,  0.06658015],\n",
       "       [ 0.06654543,  0.06662375,  0.06669925,  0.06672344,  0.0667121 ,\n",
       "         0.06661487,  0.0666884 ,  0.06667177,  0.06668032,  0.06670816,\n",
       "         0.06662353,  0.06670117,  0.06675147,  0.06670137,  0.06655496],\n",
       "       [ 0.06666215,  0.06669204,  0.0665602 ,  0.06671539,  0.06667461,\n",
       "         0.06674999,  0.06663159,  0.06655477,  0.06668154,  0.06675893,\n",
       "         0.06657116,  0.06661755,  0.06679947,  0.06663664,  0.06669397],\n",
       "       [ 0.06672509,  0.06669335,  0.06666048,  0.06668314,  0.06665102,\n",
       "         0.06665889,  0.06662296,  0.06658012,  0.06664631,  0.066693  ,\n",
       "         0.06665846,  0.0667128 ,  0.06669741,  0.06669432,  0.06662266],\n",
       "       [ 0.06662578,  0.06667849,  0.06660174,  0.06658942,  0.06667403,\n",
       "         0.06671972,  0.06668736,  0.06664744,  0.06673021,  0.06670731,\n",
       "         0.06665884,  0.06671349,  0.06667388,  0.06662214,  0.06667014],\n",
       "       [ 0.06655688,  0.06670394,  0.06655795,  0.06672024,  0.06659853,\n",
       "         0.06680362,  0.06653623,  0.06667401,  0.06680017,  0.06677995,\n",
       "         0.06657451,  0.06660271,  0.06667452,  0.06666662,  0.06675013],\n",
       "       [ 0.06659561,  0.06663455,  0.06660649,  0.06670604,  0.06676119,\n",
       "         0.06673831,  0.06664808,  0.06665477,  0.06662398,  0.06654764,\n",
       "         0.0667565 ,  0.06657812,  0.06674809,  0.06667576,  0.06672489],\n",
       "       [ 0.06662537,  0.06677929,  0.06665058,  0.06659796,  0.06659163,\n",
       "         0.06659949,  0.06664514,  0.06676018,  0.06675576,  0.06658961,\n",
       "         0.06667786,  0.06669624,  0.06669925,  0.06676683,  0.06656481],\n",
       "       [ 0.06655787,  0.06672164,  0.0667056 ,  0.06673414,  0.06675045,\n",
       "         0.0667268 ,  0.06663149,  0.06666023,  0.0666622 ,  0.06662496,\n",
       "         0.0667246 ,  0.06659989,  0.0665652 ,  0.06668529,  0.06664963],\n",
       "       [ 0.06684886,  0.06659941,  0.06653564,  0.06683413,  0.06661933,\n",
       "         0.06671183,  0.06657695,  0.06678998,  0.06666376,  0.06680716,\n",
       "         0.06659768,  0.06662255,  0.06658731,  0.06667235,  0.06653306],\n",
       "       [ 0.06662042,  0.06655785,  0.06676815,  0.06667331,  0.06674054,\n",
       "         0.06667097,  0.06671042,  0.06657435,  0.06669794,  0.06661964,\n",
       "         0.0666895 ,  0.06659211,  0.06673675,  0.06668377,  0.06666428],\n",
       "       [ 0.06660374,  0.06680038,  0.06658238,  0.06671798,  0.06665865,\n",
       "         0.06658493,  0.06665399,  0.06662375,  0.06663175,  0.06663722,\n",
       "         0.06673451,  0.06670467,  0.0667947 ,  0.06665643,  0.06661492]])"
      ]
     },
     "execution_count": 80,
     "metadata": {},
     "output_type": "execute_result"
    }
   ],
   "source": [
    "JA1"
   ]
  },
  {
   "cell_type": "code",
   "execution_count": 53,
   "metadata": {
    "collapsed": false
   },
   "outputs": [],
   "source": [
    "#randomly initialize pi, phi and T#\n",
    "N = 2\n",
    "M = 3\n",
    "k = 3\n",
    "n = 10\n",
    "x = np.array([0,1,2,1,2,0,0,1,2,0])\n",
    "vals = np.random.rand(N*M)\n",
    "pi = np.log(vals/np.sum(vals))\n",
    "A = np.zeros(shape = (N, N))\n",
    "B = np.zeros(shape = (N, M, M))\n",
    "phi = np.zeros(shape = (N*M, k))\n",
    "for i in range(0, N):\n",
    "    vals1 = np.random.rand(N)\n",
    "    A[i, ] = np.log(vals1/np.sum(vals1))\n",
    "    for j in range(0, M):\n",
    "        vals3 = np.random.rand(M)\n",
    "        B[i,j,] = np.log(vals3/np.sum(vals3))\n",
    "for i in range(0,N*M):\n",
    "    vals2 = np.random.rand(k)\n",
    "    phi[i, ] = np.log(vals2/np.sum(vals2))\n",
    "\n",
    "iterations = 0\n",
    "convergence = 0\n",
    "pOld = 1E10\n",
    "\n",
    "#Initialize matricies for gamma and beta values#\n",
    "gamma = np.zeros(shape = (n, N*M))\n",
    "beta = np.zeros(shape = (n,N*M,N*M))\n",
    "\n",
    "#Stop iterations when log(p(x_1:n)) differs by tol between iterations#\n",
    "\n",
    "\n",
    "    #Find Tmat which is AxB\n",
    "Tmat = np.zeros((N*M, N*M))\n",
    "count_ik = 0\n",
    "count_jl = 0\n",
    "for i in range(0,N):\n",
    "    for q in range(0,M):\n",
    "        count_jl = 0\n",
    "        for j in range(0, N):\n",
    "            for l in range(0,M):\n",
    "\n",
    "                Tmat[count_ik,count_jl] = A[i,j]*B[j,q,l]\n",
    "                count_jl +=1\n",
    "        count_ik +=1\n",
    "\n",
    "#Perform forward and backward algorithms# \n",
    "g = forwardAlg(n, N*M, k, pi, Tmat, phi, x)\n",
    "h = backwardAlg(n, N*M, k, pi, Tmat, phi, x)\n",
    "pNew = pForward(g, x)\n",
    "\n",
    "##E-Step##\n",
    "\n",
    "#Calculate gamma and beta#\n",
    "for t in range(0, n):\n",
    "    gamma[t,] = g[t,] + h[t,] - pNew\n",
    "for t in range(0, n):\n",
    "    for i in range(0, N*M):\n",
    "        for j in range(0, N*M):\n",
    "            if t == 1:\n",
    "                beta[t,i,j] = 1\n",
    "            else:\n",
    "                beta[t,i,j] = Tmat[i,j] + phi[j, x[t]] + g[t-1, i] + h[t, j] - pNew\n",
    "##M-Step##\n",
    "\n",
    "#Update pi, phi and Tmat#\n",
    "pi = gamma[0,] - logSumExp(gamma[0,])\n",
    "\n",
    "\n",
    "for i in range(0,N):\n",
    "    for j in range(0,N):\n",
    "        Asums = []\n",
    "        for q in range(i*M, (i+1)*M):\n",
    "            for l in range(j*M, (j+1)*M):\n",
    "                Asums.append(logSumExp(beta[range(1,n),q,l]))\n",
    "        \n",
    "        A[i,j] = logSumExp(Asums) \n",
    "\n",
    "A = A/np.sum(A, axis = 1)[:, np.newaxis]\n",
    "\n",
    "for j in range(0,N):\n",
    "    for q in range(0,M):\n",
    "        for l in range(0,M):\n",
    "            Bsums = []\n",
    "            for i in range(q,N*M,M):\n",
    "                Bsums.append(logSumExp(beta[range(1,n),i,M*j+l]))\n",
    "            B[j,q,l] = logSumExp(Bsums) \n",
    "            \n",
    "B = B/np.sum(B, axis = 2)[:,:,np.newaxis]\n",
    "\n",
    "for i in range(0,N*M):\n",
    "    for w in range(0, k):\n",
    "        indicies = np.where(x == w)\n",
    "        phi[i,w] = logSumExp(gamma[indicies, i]) - logSumExp(gamma[:,i])"
   ]
  },
  {
   "cell_type": "code",
   "execution_count": 92,
   "metadata": {
    "collapsed": false
   },
   "outputs": [],
   "source": [
    "def decode(x, code):\n",
    "    output = np.zeros(len(x))\n",
    "    for i in range(0, len(x)):\n",
    "        output[i] = code[x[i]]\n",
    "    return output"
   ]
  },
  {
   "cell_type": "code",
   "execution_count": 51,
   "metadata": {
    "collapsed": false
   },
   "outputs": [
    {
     "name": "stderr",
     "output_type": "stream",
     "text": [
      "/Users/annayanchenko/anaconda3/lib/python3.5/site-packages/ipykernel/__main__.py:4: DeprecationWarning: using a non-integer number instead of an integer will result in an error in the future\n"
     ]
    },
    {
     "data": {
      "text/plain": [
       "array([ 64.,  37.,  49., ...,  37.,  44.,  49.])"
      ]
     },
     "execution_count": 51,
     "metadata": {},
     "output_type": "execute_result"
    }
   ],
   "source": [
    "decode(xNotes,possibleNotes)"
   ]
  },
  {
   "cell_type": "code",
   "execution_count": 89,
   "metadata": {
    "collapsed": false
   },
   "outputs": [
    {
     "data": {
      "text/plain": [
       "0"
      ]
     },
     "execution_count": 89,
     "metadata": {},
     "output_type": "execute_result"
    }
   ],
   "source": [
    "int((2 - 2 % M)/M)"
   ]
  },
  {
   "cell_type": "code",
   "execution_count": 88,
   "metadata": {
    "collapsed": false
   },
   "outputs": [
    {
     "data": {
      "text/plain": [
       "2"
      ]
     },
     "execution_count": 88,
     "metadata": {},
     "output_type": "execute_result"
    }
   ],
   "source": [
    "2 % M"
   ]
  },
  {
   "cell_type": "code",
   "execution_count": 93,
   "metadata": {
    "collapsed": true
   },
   "outputs": [],
   "source": [
    "def hmm(n, pi, phi, Tmat, A, B, code):\n",
    "    N = A.shape[0]\n",
    "    M = B.shape[1]\n",
    "    k = phi.shape[1]\n",
    "    zstates = range(0, N*M)\n",
    "    rstates = range(0,N)\n",
    "    sstates = range(0,M)\n",
    "    xstates = range(0, k)\n",
    "    R = np.zeros(n)\n",
    "    S = np.zeros(n)\n",
    "    x = np.zeros(n)\n",
    "    z = np.random.choice(zstates, size = 1, p = pi)\n",
    "    S[0] = z % M\n",
    "    R[0] = int((z - z%M)/M)\n",
    "    for j in range(1, n):\n",
    "        R[j] = np.random.choice(rstates, size = 1, p = A[R[j-1], :])\n",
    "        S[j] = np.random.choice(sstates, size = 1, p = B[R[j], S[j-1],:])\n",
    "    for i in range(0, n):\n",
    "        x[i] = np.random.choice(xstates, size = 1, p = phi[S[i], :])\n",
    "    output = decode(x, code)\n",
    "    return output\n"
   ]
  },
  {
   "cell_type": "code",
   "execution_count": 94,
   "metadata": {
    "collapsed": false
   },
   "outputs": [
    {
     "name": "stderr",
     "output_type": "stream",
     "text": [
      "/Users/annayanchenko/anaconda3/lib/python3.5/site-packages/ipykernel/__main__.py:16: DeprecationWarning: using a non-integer number instead of an integer will result in an error in the future\n",
      "/Users/annayanchenko/anaconda3/lib/python3.5/site-packages/ipykernel/__main__.py:17: DeprecationWarning: using a non-integer number instead of an integer will result in an error in the future\n",
      "/Users/annayanchenko/anaconda3/lib/python3.5/site-packages/ipykernel/__main__.py:19: DeprecationWarning: using a non-integer number instead of an integer will result in an error in the future\n",
      "/Users/annayanchenko/anaconda3/lib/python3.5/site-packages/ipykernel/__main__.py:4: DeprecationWarning: using a non-integer number instead of an integer will result in an error in the future\n"
     ]
    }
   ],
   "source": [
    "CnewNotes = hmm(Cn1, Cpi1, Cphi1, CTmat1, CA1, CB1, CpossibleNotes)\n",
    "CnewVelocities = hmm(Cn2, Cpi2, Cphi2, CTmat2, CA2, CB2, CpossibleVelocities)\n",
    "\n",
    "DnewNotes = hmm(Dn1, Dpi1, Dphi1, DTmat1, DA1, DB1, DpossibleNotes)\n",
    "DnewVelocities = hmm(Dn2, Dpi2, Dphi2, DTmat2, DA2, DB2, DpossibleVelocities)\n",
    "\n",
    "# JnewNotes = hmm(Jn1, Jpi1, Jphi1, JTmat1, JA1, JB1, JpossibleNotes)\n",
    "# JnewVelocities = hmm(Jn2, Jpi2, Jphi2, JTmat2, JA2, JB2, JpossibleVelocities)\n",
    "\n",
    "PnewNotes = hmm(Pn1, Ppi1, Pphi1, PTmat1, PA1, PB1, PpossibleNotes)\n",
    "PnewVelocities = hmm(Pn2, Ppi2, Pphi2, PTmat2, PA2, PB2, PpossibleVelocities)"
   ]
  },
  {
   "cell_type": "code",
   "execution_count": 95,
   "metadata": {
    "collapsed": false
   },
   "outputs": [
    {
     "data": {
      "text/plain": [
       "array([ 58.,  56.,  70., ...,  67.,  70.,  67.])"
      ]
     },
     "execution_count": 95,
     "metadata": {},
     "output_type": "execute_result"
    }
   ],
   "source": []
  },
  {
   "cell_type": "code",
   "execution_count": 96,
   "metadata": {
    "collapsed": false
   },
   "outputs": [],
   "source": [
    "Coutput = pd.DataFrame(CnewNotes)\n",
    "Coutput[\"vel\"] = CnewVelocities\n",
    "Coutput.to_csv(\"clair-de-luneRemix-2H.csv\")\n",
    "\n",
    "Doutput = pd.DataFrame(DnewNotes)\n",
    "Doutput[\"vel\"] = DnewVelocities\n",
    "Doutput.to_csv(\"Dvorak9Remix-2H.csv\")\n",
    "\n",
    "# Joutput = pd.DataFrame(JnewNotes)\n",
    "# Joutput[\"vel\"] = JnewVelocities\n",
    "# Joutput.to_csv(\"jupiterRemix-2H.csv\")\n",
    "\n",
    "Poutput = pd.DataFrame(PnewNotes)\n",
    "Poutput[\"vel\"] = PnewVelocities\n",
    "Poutput.to_csv(\"pachelbelRemix-2H.csv\")"
   ]
  },
  {
   "cell_type": "code",
   "execution_count": null,
   "metadata": {
    "collapsed": true
   },
   "outputs": [],
   "source": []
  }
 ],
 "metadata": {
  "kernelspec": {
   "display_name": "Python 3",
   "language": "python",
   "name": "python3"
  },
  "language_info": {
   "codemirror_mode": {
    "name": "ipython",
    "version": 3
   },
   "file_extension": ".py",
   "mimetype": "text/x-python",
   "name": "python",
   "nbconvert_exporter": "python",
   "pygments_lexer": "ipython3",
   "version": "3.5.1"
  }
 },
 "nbformat": 4,
 "nbformat_minor": 0
}
