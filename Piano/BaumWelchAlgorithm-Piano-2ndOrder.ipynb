{
 "cells": [
  {
   "cell_type": "code",
   "execution_count": 3,
   "metadata": {
    "collapsed": false,
    "scrolled": false
   },
   "outputs": [],
   "source": [
    "import numpy as np\n",
    "import pandas as pd\n",
    "import numba"
   ]
  },
  {
   "cell_type": "markdown",
   "metadata": {},
   "source": [
    "## Read in/Format Data"
   ]
  },
  {
   "cell_type": "code",
   "execution_count": 4,
   "metadata": {
    "collapsed": false
   },
   "outputs": [],
   "source": [
    "clair = pd.read_csv(\"CSV/clair-de-lune.csv\", skiprows = 192, header = None).dropna(axis = 0)\n",
    "dvorak = pd.read_csv(\"CSV/Dvorak9Largo.csv\", skiprows = 98, header = None).dropna(axis = 0)\n",
    "jupiter = pd.read_csv(\"CSV/Jupiter.csv\", skiprows = 39, header = None).dropna(axis = 0)\n",
    "pachelbel = pd.read_csv(\"CSV/pachelbel.csv\", skiprows = 27, header = None).dropna(axis = 0)"
   ]
  },
  {
   "cell_type": "code",
   "execution_count": 5,
   "metadata": {
    "collapsed": false
   },
   "outputs": [],
   "source": [
    "#Select Notes and velocity columns#\n",
    "Cnotes = clair.ix[:,4]\n",
    "Cvelocity = clair.ix[:,5]\n",
    "\n",
    "#Find possible unique notes and velocities\n",
    "CpossibleNotes = np.unique(Cnotes)\n",
    "CpossibleVelocities =  np.unique(Cvelocity)\n",
    "\n",
    "\n",
    "#Select Notes and velocity columns#\n",
    "Dnotes = dvorak.ix[:,4]\n",
    "Dvelocity = dvorak.ix[:,5]\n",
    "\n",
    "#Find possible unique notes and velocities\n",
    "DpossibleNotes = np.unique(Dnotes)\n",
    "DpossibleVelocities =  np.unique(Dvelocity)\n",
    "\n",
    "#Select Notes and velocity columns#\n",
    "Jnotes = jupiter.ix[:,4]\n",
    "Jvelocity = jupiter.ix[:,5]\n",
    "\n",
    "#Find possible unique notes and velocities\n",
    "JpossibleNotes = np.unique(Jnotes)\n",
    "JpossibleVelocities =  np.unique(Jvelocity)\n",
    "\n",
    "#Select Notes and velocity columns#\n",
    "Pnotes = pachelbel.ix[:,4]\n",
    "Pvelocity = pachelbel.ix[:,5]\n",
    "\n",
    "#Find possible unique notes and velocities\n",
    "PpossibleNotes = np.unique(Pnotes)\n",
    "PpossibleVelocities =  np.unique(Pvelocity)"
   ]
  },
  {
   "cell_type": "code",
   "execution_count": 6,
   "metadata": {
    "collapsed": false
   },
   "outputs": [],
   "source": [
    "Ck1 = len(CpossibleNotes)\n",
    "Ck2 = len(CpossibleVelocities)\n",
    "\n",
    "Dk1 = len(DpossibleNotes)\n",
    "Dk2 = len(DpossibleVelocities)\n",
    "\n",
    "Jk1 = len(JpossibleNotes)\n",
    "Jk2 = len(JpossibleVelocities)\n",
    "\n",
    "Pk1 = len(PpossibleNotes)\n",
    "Pk2 = len(PpossibleVelocities)\n"
   ]
  },
  {
   "cell_type": "code",
   "execution_count": 1,
   "metadata": {
    "collapsed": true
   },
   "outputs": [],
   "source": [
    "def encode(x, code):\n",
    "    output = np.zeros(len(x))\n",
    "    for i in range(0, len(x)):\n",
    "        output[i] = int(np.where(code == x[i])[0]) \n",
    "    return output"
   ]
  },
  {
   "cell_type": "code",
   "execution_count": 7,
   "metadata": {
    "collapsed": false
   },
   "outputs": [],
   "source": [
    "CxNotes = encode(Cnotes, CpossibleNotes)\n",
    "CxVel = encode(Cvelocity, CpossibleVelocities)\n",
    "\n",
    "DxNotes = encode(Dnotes, DpossibleNotes)\n",
    "DxVel = encode(Dvelocity, DpossibleVelocities)\n",
    "\n",
    "JxNotes = encode(Jnotes, JpossibleNotes)\n",
    "JxVel = encode(Jvelocity, JpossibleVelocities)\n",
    "\n",
    "PxNotes = encode(Pnotes, PpossibleNotes)\n",
    "PxVel = encode(Pvelocity, PpossibleVelocities)"
   ]
  },
  {
   "cell_type": "markdown",
   "metadata": {},
   "source": [
    "## 1st Order HMM - Estimate pi, phi, T"
   ]
  },
  {
   "cell_type": "code",
   "execution_count": 39,
   "metadata": {
    "collapsed": true
   },
   "outputs": [],
   "source": [
    "#@numba.njit()\n",
    "#Function using the log-sum-exp trick#\n",
    "def logSumExp(a):\n",
    "    b = np.max(a)\n",
    "    return(b + np.log(np.sum(np.exp(a-b))))\n",
    "\n",
    "#####################\n",
    "##Forward Algorithm##\n",
    "#####################\n",
    "\n",
    "#Function to run forward algorithm, arguments are n = # obs, m = # states for z,#\n",
    "#k = # states for x, pi = initial distribution(m vector), \n",
    "#Tmat = transition matrix (mxm), phi = emission distribution (m x k matrix)#\n",
    "#x is the observed data#\n",
    "#takes log of pi, Tmat and phi\n",
    "@numba.jit()\n",
    "def forwardAlg(n, m, k, pi, Tmat, phi, x):\n",
    "    g = np.zeros((n,m))\n",
    "    for i in range(0,m):\n",
    "        g[0,i] = (pi[i]) + (phi[i, x[0]])\n",
    "    \n",
    "    for j in range(1, n):\n",
    "        for l in range(0, m):\n",
    "            g[j,l] = logSumExp(g[j-1, :]+(Tmat[:,l])+(phi[l,x[j]-1]))\n",
    "    return(g)\n",
    "\n",
    "def pForward(g, x):\n",
    "    pXf = logSumExp(g[len(x)-1,:])\n",
    "    return(pXf)"
   ]
  },
  {
   "cell_type": "code",
   "execution_count": 40,
   "metadata": {
    "collapsed": true
   },
   "outputs": [],
   "source": [
    "@numba.jit()\n",
    "def backwardAlg(n, m, k, pi, Tmat, phi, x):\n",
    "    r = np.zeros((n,m))\n",
    "    for j in range(n-2, -1, -1):\n",
    "        for l in range(0, m):\n",
    "            r[j, l] = logSumExp(r[j+1,: ] + Tmat[l,:] + phi[:, x[j+1]])\n",
    "    \n",
    "    return(r)\n",
    "@numba.jit()\n",
    "#Function to return p(x_1:n) from matrix from backward algorithm\n",
    "def pBackward(r, pi, phi, x):\n",
    "    pXb = logSumExp(r[0,: ]+ pi +phi[:,x[0]])\n",
    "    return(pXb)"
   ]
  },
  {
   "cell_type": "code",
   "execution_count": 41,
   "metadata": {
    "collapsed": true
   },
   "outputs": [],
   "source": [
    "@numba.jit()\n",
    "def BaumWelch(n, m, k, x, tol):\n",
    "    #randomly initialize pi, phi and T#\n",
    "    vals = np.random.rand(m)\n",
    "    pi = np.log(vals/np.sum(vals))\n",
    "    Tmat = np.zeros(shape = (m, m))\n",
    "    phi = np.zeros(shape = (m, k))\n",
    "    for i in range(0, m):\n",
    "        vals1 = np.random.rand(m)\n",
    "        Tmat[i, ] = np.log(vals1/np.sum(vals1))\n",
    "        vals2 = np.random.rand(k)\n",
    "        phi[i, ] = np.log(vals2/np.sum(vals2))\n",
    "    \n",
    "    iterations = 0\n",
    "    convergence = 0\n",
    "    pOld = 1E10\n",
    "    \n",
    "    #Initialize matricies for gamma and beta values#\n",
    "    gamma = np.zeros(shape = (n, m))\n",
    "    beta = np.zeros(shape = (n,m,m))\n",
    "    \n",
    "    #Stop iterations when log(p(x_1:n)) differs by tol between iterations#\n",
    "    while convergence == 0:\n",
    "        #Perform forward and backward algorithms# \n",
    "        g = forwardAlg(n, m, k, pi, Tmat, phi, x)\n",
    "        h = backwardAlg(n, m, k, pi, Tmat, phi, x)\n",
    "        pNew = pForward(g, x)\n",
    "        \n",
    "        ##E-Step##\n",
    "    \n",
    "        #Calculate gamma and beta#\n",
    "        for t in range(0, n):\n",
    "            gamma[t,] = g[t,] + h[t,] - pNew\n",
    "        for t in range(0, n):\n",
    "            for i in range(0, m):\n",
    "                for j in range(0, m):\n",
    "                    if t == 1:\n",
    "                        beta[t,i,j] = 1\n",
    "                    else:\n",
    "                        beta[t,i,j] = Tmat[i,j] + phi[j, x[t]] + g[t-1, i] + h[t, j] - pNew\n",
    "        ##M-Step##\n",
    "    \n",
    "        #Update pi, phi and Tmat#\n",
    "        pi = gamma[0,] - logSumExp(gamma[0,])\n",
    "        for i in range(0, m):\n",
    "            for j in range(0, m):\n",
    "                Tmat[i,j] = logSumExp(beta[range(1, n), i, j]) - logSumExp(beta[range(1,n), i, ])\n",
    "        for i in range(0,m):\n",
    "            for w in range(0, k):\n",
    "                indicies = np.where(x == w)\n",
    "                phi[i,w] = logSumExp(gamma[indicies, i]) - logSumExp(gamma[:,i])\n",
    "        \n",
    "        criteria = abs(pOld - pNew)\n",
    "        if criteria < tol:\n",
    "            convergence = 1\n",
    "        else:\n",
    "            convergence = 0\n",
    "            pOld = pNew\n",
    "            iterations +=1\n",
    "        return (iterations, pNew, np.exp(pi), np.exp(phi), np.exp(Tmat))\n",
    "        "
   ]
  },
  {
   "cell_type": "code",
   "execution_count": 53,
   "metadata": {
    "collapsed": false
   },
   "outputs": [
    {
     "name": "stderr",
     "output_type": "stream",
     "text": [
      "/Users/annayanchenko/anaconda3/lib/python3.5/site-packages/ipykernel/__main__.py:2: DeprecationWarning: using a non-integer number instead of an integer will result in an error in the future\n",
      "  from ipykernel import kernelapp as app\n",
      "/Users/annayanchenko/anaconda3/lib/python3.5/site-packages/ipykernel/__main__.py:3: DeprecationWarning: using a non-integer number instead of an integer will result in an error in the future\n",
      "  app.launch_new_instance()\n"
     ]
    }
   ],
   "source": [
    "np.random.seed(77)\n",
    "Jit1, Jp1, Jpi1, Jphi1, JTmat1 = BaumWelch(Jn1, 10, Jk1, JxNotes, 0.0001)\n",
    "Jit2, Jp2, Jpi2, Jphi2, JTmat2 = BaumWelch(Jn2, 10, Jk2, JxVel, 0.0001)"
   ]
  },
  {
   "cell_type": "code",
   "execution_count": 70,
   "metadata": {
    "collapsed": false
   },
   "outputs": [
    {
     "name": "stderr",
     "output_type": "stream",
     "text": [
      "/Users/annayanchenko/anaconda3/lib/python3.5/site-packages/ipykernel/__main__.py:2: DeprecationWarning: using a non-integer number instead of an integer will result in an error in the future\n",
      "  from ipykernel import kernelapp as app\n",
      "/Users/annayanchenko/anaconda3/lib/python3.5/site-packages/ipykernel/__main__.py:3: DeprecationWarning: using a non-integer number instead of an integer will result in an error in the future\n",
      "  app.launch_new_instance()\n",
      "/Users/annayanchenko/anaconda3/lib/python3.5/site-packages/ipykernel/__main__.py:5: DeprecationWarning: using a non-integer number instead of an integer will result in an error in the future\n",
      "/Users/annayanchenko/anaconda3/lib/python3.5/site-packages/ipykernel/__main__.py:6: DeprecationWarning: using a non-integer number instead of an integer will result in an error in the future\n",
      "/Users/annayanchenko/anaconda3/lib/python3.5/site-packages/ipykernel/__main__.py:8: DeprecationWarning: using a non-integer number instead of an integer will result in an error in the future\n",
      "/Users/annayanchenko/anaconda3/lib/python3.5/site-packages/ipykernel/__main__.py:9: DeprecationWarning: using a non-integer number instead of an integer will result in an error in the future\n",
      "/Users/annayanchenko/anaconda3/lib/python3.5/site-packages/ipykernel/__main__.py:11: DeprecationWarning: using a non-integer number instead of an integer will result in an error in the future\n",
      "/Users/annayanchenko/anaconda3/lib/python3.5/site-packages/ipykernel/__main__.py:12: DeprecationWarning: using a non-integer number instead of an integer will result in an error in the future\n"
     ]
    }
   ],
   "source": [
    "np.random.seed(77)\n",
    "Cit1, Cp1, Cpi1, Cphi1, CTmat1 = BaumWelch(Cn1, 50, Ck1, CxNotes, 0.0001)\n",
    "Cit2, Cp2, Cpi2, Cphi2, CTmat2 = BaumWelch(Cn2, 50, Ck2, CxVel, 0.0001)\n",
    "\n",
    "Dit1, Dp1, Dpi1, Dphi1, DTmat1 = BaumWelch(Dn1, 50, Dk1, DxNotes, 0.0001)\n",
    "Dit2, Dp2, Dpi2, Dphi2, DTmat2 = BaumWelch(Dn2, 50, Dk2, DxVel, 0.0001)\n",
    "\n",
    "Jit1, Jp1, Jpi1, Jphi1, JTmat1 = BaumWelch(Jn1, 50, Jk1, JxNotes, 0.0001)\n",
    "Jit2, Jp2, Jpi2, Jphi2, JTmat2 = BaumWelch(Jn2, 50, Jk2, JxVel, 0.0001)\n",
    "\n",
    "Pit1, Pp1, Ppi1, Pphi1, PTmat1 = BaumWelch(Pn1, 50, Pk1, PxNotes, 0.0001)\n",
    "Pit2, Pp2, Ppi2, Pphi2, PTmat2 = BaumWelch(Pn2, 50, Pk2, PxVel, 0.0001)"
   ]
  },
  {
   "cell_type": "code",
   "execution_count": null,
   "metadata": {
    "collapsed": true
   },
   "outputs": [],
   "source": []
  },
  {
   "cell_type": "code",
   "execution_count": null,
   "metadata": {
    "collapsed": true
   },
   "outputs": [],
   "source": []
  },
  {
   "cell_type": "markdown",
   "metadata": {},
   "source": [
    "## 2nd Order HMM - Estimate T2"
   ]
  },
  {
   "cell_type": "code",
   "execution_count": 34,
   "metadata": {
    "collapsed": false
   },
   "outputs": [],
   "source": [
    "#@numba.njit()\n",
    "#Function using the log-sum-exp trick#\n",
    "def logSumExp(a):\n",
    "    b = np.max(a)\n",
    "    return(b + np.log(np.sum(np.exp(a-b))))\n",
    "\n",
    "#####################\n",
    "##Forward Algorithm##\n",
    "#####################\n",
    "\n",
    "#Function to run forward algorithm, arguments are n = # obs, m = # states for z,#\n",
    "#k = # states for x, pi = initial distribution(m vector), \n",
    "#Tmat = transition matrix (mxm), phi = emission distribution (m x k matrix)#\n",
    "#x is the observed data#\n",
    "#takes log of pi, Tmat and phi\n",
    "@numba.jit()\n",
    "def forwardAlg2(n, m, k, pi, Tmat, T2mat, phi, x):\n",
    "    g = np.zeros(m)\n",
    "    alpha = np.zeros((n, m, m))\n",
    "    \n",
    "    g = pi + phi[:, x[0]]\n",
    "    \n",
    "    for t in range(1,n):\n",
    "        for j in range(0,m):\n",
    "            for l in range(0,m):\n",
    "                if t ==1:\n",
    "                    alpha[1,j,l] = g[j] + Tmat[j,l] + phi[l, x[1]]\n",
    "                else:\n",
    "                    alpha[t,j,l] = logSumExp(alpha[t-1,:,j] + T2mat[:,j,l] + phi[l, x[t]])\n",
    "    return alpha\n",
    "\n",
    "def pForward2(m,g, x):\n",
    "    pXf = logSumExp(g[len(x)-1,:,m-1])\n",
    "    return(pXf)"
   ]
  },
  {
   "cell_type": "code",
   "execution_count": 35,
   "metadata": {
    "collapsed": false
   },
   "outputs": [
    {
     "name": "stderr",
     "output_type": "stream",
     "text": [
      "/Users/annayanchenko/anaconda3/lib/python3.5/site-packages/ipykernel/__main__.py:21: DeprecationWarning: using a non-integer number instead of an integer will result in an error in the future\n"
     ]
    },
    {
     "data": {
      "text/plain": [
       "-3845.2483708539939"
      ]
     },
     "execution_count": 35,
     "metadata": {},
     "output_type": "execute_result"
    }
   ],
   "source": [
    "m = 10\n",
    "Cn1 = len(CxNotes)\n",
    "Cn2 = len(CxVel)\n",
    "\n",
    "Dn1 = len(DxNotes)\n",
    "Dn2 = len(DxVel)\n",
    "\n",
    "Jn1 = len(JxNotes)\n",
    "Jn2 = len(JxVel)\n",
    "\n",
    "Pn1 = len(PxNotes)\n",
    "Pn2 = len(PxVel)\n",
    "\n",
    "k1 = len(JpossibleNotes)\n",
    "\n",
    "\n",
    "pi1 = np.full(m, 1/m)\n",
    "phi1 = np.full((m,k1), 1/k1)\n",
    "Tmat1 = np.full((m,m), 1/m)\n",
    "T2mat1 = np.full((m,m,m), 1/m)\n",
    "G1 = forwardAlg2(Jn1, m, k1, np.log(pi1), np.log(Tmat1), np.log(T2mat1), np.log(phi1), JxNotes)\n",
    "p1 = pForward2(m, G1, JxNotes)\n",
    "p1"
   ]
  },
  {
   "cell_type": "code",
   "execution_count": 20,
   "metadata": {
    "collapsed": false
   },
   "outputs": [
    {
     "data": {
      "text/plain": [
       "27"
      ]
     },
     "execution_count": 20,
     "metadata": {},
     "output_type": "execute_result"
    }
   ],
   "source": [
    "k1\n",
    "#G1[len(JxNotes)-1,:,k1]"
   ]
  },
  {
   "cell_type": "code",
   "execution_count": 36,
   "metadata": {
    "collapsed": false
   },
   "outputs": [],
   "source": [
    "@numba.jit()\n",
    "def backwardAlg2(n, m, k, pi, Tmat, T2mat, phi, x):\n",
    "    beta = np.zeros((n,m,m))\n",
    "    for t in range(n-2, -1, -1):\n",
    "        for j in range(0, m):\n",
    "            for l in range(0,m):\n",
    "                beta[t,j, l] = logSumExp(beta[t+1,j,: ] + T2mat[j,l,:] + phi[:, x[j+1]])\n",
    "    \n",
    "    return(beta)\n",
    "@numba.jit()\n",
    "#Function to return p(x_1:n) from matrix from backward algorithm\n",
    "def pBackward2(m,r, pi, phi, x):\n",
    "    pXb = logSumExp(r[0,:,m-1]+ pi +phi[:,x[0]])\n",
    "    return(pXb)"
   ]
  },
  {
   "cell_type": "code",
   "execution_count": 37,
   "metadata": {
    "collapsed": false,
    "scrolled": true
   },
   "outputs": [
    {
     "name": "stderr",
     "output_type": "stream",
     "text": [
      "/Users/annayanchenko/anaconda3/lib/python3.5/site-packages/ipykernel/__main__.py:1: DeprecationWarning: using a non-integer number instead of an integer will result in an error in the future\n",
      "  if __name__ == '__main__':\n",
      "/Users/annayanchenko/anaconda3/lib/python3.5/site-packages/ipykernel/__main__.py:2: DeprecationWarning: using a non-integer number instead of an integer will result in an error in the future\n",
      "  from ipykernel import kernelapp as app\n"
     ]
    },
    {
     "data": {
      "text/plain": [
       "-3842.945785761"
      ]
     },
     "execution_count": 37,
     "metadata": {},
     "output_type": "execute_result"
    }
   ],
   "source": [
    "G2 = backwardAlg2(Jn1, m, k1, np.log(pi1), np.log(Tmat1), np.log(T2mat1), np.log(phi1), JxNotes)\n",
    "p2 = pBackward2(m, G2, np.log(pi1), np.log(phi1), JxNotes)\n",
    "p2"
   ]
  },
  {
   "cell_type": "code",
   "execution_count": 58,
   "metadata": {
    "collapsed": false
   },
   "outputs": [
    {
     "data": {
      "text/plain": [
       "(1166, 10, 10)"
      ]
     },
     "execution_count": 58,
     "metadata": {},
     "output_type": "execute_result"
    }
   ],
   "source": [
    "G2.shape"
   ]
  },
  {
   "cell_type": "code",
   "execution_count": 61,
   "metadata": {
    "collapsed": false
   },
   "outputs": [],
   "source": [
    "@numba.jit()\n",
    "def BaumWelch2(n, m, k, x, pi, Tmat, phi, tol):\n",
    "    #randomly initialize T2mat#\n",
    "    T2mat = np.zeros(shape = (m,m,m))\n",
    "    for i in range(0, m):\n",
    "        for j in range(0,m):\n",
    "            vals = np.random.rand(m)\n",
    "            T2mat[i,j, ] = np.log(vals/np.sum(vals))\n",
    "    iterations = 0\n",
    "    convergence = 0\n",
    "    pOld = 1E10\n",
    "    \n",
    "    #Initialize matricies for gamma and beta values#\n",
    "    gamma = np.zeros(shape = (n, m))\n",
    "    beta = np.zeros(shape = (n,m,m))\n",
    "    #Stop iterations when log(p(x_1:n)) differs by tol between iterations#\n",
    "    while convergence == 0:\n",
    "        \n",
    "        #Perform forward and backward algorithms# \n",
    "        alpha = forwardAlg2(n, m, k, pi, Tmat, T2mat, phi, x)\n",
    "        beta = backwardAlg2(n, m, k, pi, Tmat, T2mat, phi, x)\n",
    "        pNew = pForward2(m,alpha, x)\n",
    "        ##M-Step##\n",
    "        eta = np.zeros((n,m,m,m))\n",
    "        #Update pi, phi and Tmat#\n",
    "\n",
    "        for t in range(1, n-1):\n",
    "            for i in range(0, m):\n",
    "                for j in range(0, m):\n",
    "                    for l in range(0,m):\n",
    "                        eta[t,i,j,l] = alpha[t,i,j] + T2mat[i,j,l] + phi[l, x[t+1]] + beta[t+1, j, l] - pNew\n",
    "        \n",
    "        for i in range(0, m):\n",
    "            for j in range(0, m):\n",
    "                for l in range(0,m):\n",
    "                        T2mat[i,j,l] = logSumExp(eta[range(1,n),i,j,l]) - logSumExp(eta[range(1,n),i,j,])\n",
    "        print(iterations)\n",
    "        criteria = abs(pOld - pNew)\n",
    "        if criteria < tol:\n",
    "            convergence = 1\n",
    "        else:\n",
    "            convergence = 0\n",
    "            pOld = pNew\n",
    "            iterations +=1\n",
    "        return (iterations, np.exp(T2mat))\n",
    "        "
   ]
  },
  {
   "cell_type": "code",
   "execution_count": 62,
   "metadata": {
    "collapsed": false
   },
   "outputs": [
    {
     "name": "stderr",
     "output_type": "stream",
     "text": [
      "/Users/annayanchenko/anaconda3/lib/python3.5/site-packages/ipykernel/__main__.py:2: DeprecationWarning: using a non-integer number instead of an integer will result in an error in the future\n",
      "  from ipykernel import kernelapp as app\n"
     ]
    },
    {
     "name": "stdout",
     "output_type": "stream",
     "text": [
      "0\n"
     ]
    }
   ],
   "source": [
    "np.random.seed(77)\n",
    "Jit1, JT2mat1 = BaumWelch2(Jn1, 10, Jk1, JxNotes, Jpi1, JTmat1, Jphi1, 0.01)"
   ]
  },
  {
   "cell_type": "code",
   "execution_count": 64,
   "metadata": {
    "collapsed": false
   },
   "outputs": [
    {
     "name": "stderr",
     "output_type": "stream",
     "text": [
      "/Users/annayanchenko/anaconda3/lib/python3.5/site-packages/ipykernel/__main__.py:2: DeprecationWarning: using a non-integer number instead of an integer will result in an error in the future\n",
      "  from ipykernel import kernelapp as app\n"
     ]
    },
    {
     "name": "stdout",
     "output_type": "stream",
     "text": [
      "0\n"
     ]
    },
    {
     "name": "stderr",
     "output_type": "stream",
     "text": [
      "/Users/annayanchenko/anaconda3/lib/python3.5/site-packages/ipykernel/__main__.py:3: DeprecationWarning: using a non-integer number instead of an integer will result in an error in the future\n",
      "  app.launch_new_instance()\n"
     ]
    },
    {
     "name": "stdout",
     "output_type": "stream",
     "text": [
      "0\n"
     ]
    }
   ],
   "source": [
    "np.random.seed(77)\n",
    "Jit1, JT2mat1 = BaumWelch2(Jn1, 30, Jk1, JxNotes, Jpi1, JTmat1, Jphi1, 0.001)\n",
    "Jit2, JT2mat2 = BaumWelch2(Jn2, 30, Jk2, JxVel, Jpi2, JTmat2, Jphi2, 0.001)"
   ]
  },
  {
   "cell_type": "code",
   "execution_count": 71,
   "metadata": {
    "collapsed": false
   },
   "outputs": [
    {
     "name": "stderr",
     "output_type": "stream",
     "text": [
      "/Users/annayanchenko/anaconda3/lib/python3.5/site-packages/ipykernel/__main__.py:2: DeprecationWarning: using a non-integer number instead of an integer will result in an error in the future\n",
      "  from ipykernel import kernelapp as app\n"
     ]
    },
    {
     "name": "stdout",
     "output_type": "stream",
     "text": [
      "0\n"
     ]
    },
    {
     "name": "stderr",
     "output_type": "stream",
     "text": [
      "/Users/annayanchenko/anaconda3/lib/python3.5/site-packages/ipykernel/__main__.py:3: DeprecationWarning: using a non-integer number instead of an integer will result in an error in the future\n",
      "  app.launch_new_instance()\n"
     ]
    },
    {
     "name": "stdout",
     "output_type": "stream",
     "text": [
      "0\n"
     ]
    },
    {
     "name": "stderr",
     "output_type": "stream",
     "text": [
      "/Users/annayanchenko/anaconda3/lib/python3.5/site-packages/ipykernel/__main__.py:5: DeprecationWarning: using a non-integer number instead of an integer will result in an error in the future\n"
     ]
    },
    {
     "name": "stdout",
     "output_type": "stream",
     "text": [
      "0\n"
     ]
    },
    {
     "name": "stderr",
     "output_type": "stream",
     "text": [
      "/Users/annayanchenko/anaconda3/lib/python3.5/site-packages/ipykernel/__main__.py:6: DeprecationWarning: using a non-integer number instead of an integer will result in an error in the future\n"
     ]
    },
    {
     "name": "stdout",
     "output_type": "stream",
     "text": [
      "0\n"
     ]
    },
    {
     "name": "stderr",
     "output_type": "stream",
     "text": [
      "/Users/annayanchenko/anaconda3/lib/python3.5/site-packages/ipykernel/__main__.py:8: DeprecationWarning: using a non-integer number instead of an integer will result in an error in the future\n"
     ]
    },
    {
     "name": "stdout",
     "output_type": "stream",
     "text": [
      "0\n"
     ]
    },
    {
     "name": "stderr",
     "output_type": "stream",
     "text": [
      "/Users/annayanchenko/anaconda3/lib/python3.5/site-packages/ipykernel/__main__.py:9: DeprecationWarning: using a non-integer number instead of an integer will result in an error in the future\n"
     ]
    },
    {
     "ename": "KeyboardInterrupt",
     "evalue": "",
     "output_type": "error",
     "traceback": [
      "\u001b[0;31m---------------------------------------------------------------------------\u001b[0m",
      "\u001b[0;31mKeyboardInterrupt\u001b[0m                         Traceback (most recent call last)",
      "\u001b[0;32m<ipython-input-71-76c5618a872f>\u001b[0m in \u001b[0;36m<module>\u001b[0;34m()\u001b[0m\n\u001b[1;32m      7\u001b[0m \u001b[0;34m\u001b[0m\u001b[0m\n\u001b[1;32m      8\u001b[0m \u001b[0mJit1\u001b[0m\u001b[0;34m,\u001b[0m \u001b[0mJT2mat1\u001b[0m \u001b[0;34m=\u001b[0m \u001b[0mBaumWelch2\u001b[0m\u001b[0;34m(\u001b[0m\u001b[0mJn1\u001b[0m\u001b[0;34m,\u001b[0m \u001b[0;36m50\u001b[0m\u001b[0;34m,\u001b[0m \u001b[0mJk1\u001b[0m\u001b[0;34m,\u001b[0m \u001b[0mJxNotes\u001b[0m\u001b[0;34m,\u001b[0m \u001b[0mJpi1\u001b[0m\u001b[0;34m,\u001b[0m \u001b[0mJTmat1\u001b[0m\u001b[0;34m,\u001b[0m \u001b[0mJphi1\u001b[0m\u001b[0;34m,\u001b[0m \u001b[0;36m0.001\u001b[0m\u001b[0;34m)\u001b[0m\u001b[0;34m\u001b[0m\u001b[0m\n\u001b[0;32m----> 9\u001b[0;31m \u001b[0mJit2\u001b[0m\u001b[0;34m,\u001b[0m \u001b[0mJT2mat2\u001b[0m \u001b[0;34m=\u001b[0m \u001b[0mBaumWelch2\u001b[0m\u001b[0;34m(\u001b[0m\u001b[0mJn2\u001b[0m\u001b[0;34m,\u001b[0m \u001b[0;36m50\u001b[0m\u001b[0;34m,\u001b[0m \u001b[0mJk2\u001b[0m\u001b[0;34m,\u001b[0m \u001b[0mJxVel\u001b[0m\u001b[0;34m,\u001b[0m \u001b[0mJpi2\u001b[0m\u001b[0;34m,\u001b[0m \u001b[0mJTmat2\u001b[0m\u001b[0;34m,\u001b[0m \u001b[0mJphi2\u001b[0m\u001b[0;34m,\u001b[0m \u001b[0;36m0.001\u001b[0m\u001b[0;34m)\u001b[0m\u001b[0;34m\u001b[0m\u001b[0m\n\u001b[0m\u001b[1;32m     10\u001b[0m \u001b[0;34m\u001b[0m\u001b[0m\n\u001b[1;32m     11\u001b[0m \u001b[0mPit1\u001b[0m\u001b[0;34m,\u001b[0m \u001b[0mPT2mat1\u001b[0m \u001b[0;34m=\u001b[0m \u001b[0mBaumWelch2\u001b[0m\u001b[0;34m(\u001b[0m\u001b[0mPn1\u001b[0m\u001b[0;34m,\u001b[0m \u001b[0;36m50\u001b[0m\u001b[0;34m,\u001b[0m \u001b[0mPk1\u001b[0m\u001b[0;34m,\u001b[0m \u001b[0mPxNotes\u001b[0m\u001b[0;34m,\u001b[0m \u001b[0mPpi1\u001b[0m\u001b[0;34m,\u001b[0m \u001b[0mPTmat1\u001b[0m\u001b[0;34m,\u001b[0m \u001b[0mPphi1\u001b[0m\u001b[0;34m,\u001b[0m \u001b[0;36m0.001\u001b[0m\u001b[0;34m)\u001b[0m\u001b[0;34m\u001b[0m\u001b[0m\n",
      "\u001b[0;32m<ipython-input-39-bd11b74aaecc>\u001b[0m in \u001b[0;36mlogSumExp\u001b[0;34m(a)\u001b[0m\n\u001b[1;32m      1\u001b[0m \u001b[0;31m#@numba.njit()\u001b[0m\u001b[0;34m\u001b[0m\u001b[0;34m\u001b[0m\u001b[0m\n\u001b[1;32m      2\u001b[0m \u001b[0;31m#Function using the log-sum-exp trick#\u001b[0m\u001b[0;34m\u001b[0m\u001b[0;34m\u001b[0m\u001b[0m\n\u001b[0;32m----> 3\u001b[0;31m \u001b[0;32mdef\u001b[0m \u001b[0mlogSumExp\u001b[0m\u001b[0;34m(\u001b[0m\u001b[0ma\u001b[0m\u001b[0;34m)\u001b[0m\u001b[0;34m:\u001b[0m\u001b[0;34m\u001b[0m\u001b[0m\n\u001b[0m\u001b[1;32m      4\u001b[0m     \u001b[0mb\u001b[0m \u001b[0;34m=\u001b[0m \u001b[0mnp\u001b[0m\u001b[0;34m.\u001b[0m\u001b[0mmax\u001b[0m\u001b[0;34m(\u001b[0m\u001b[0ma\u001b[0m\u001b[0;34m)\u001b[0m\u001b[0;34m\u001b[0m\u001b[0m\n\u001b[1;32m      5\u001b[0m     \u001b[0;32mreturn\u001b[0m\u001b[0;34m(\u001b[0m\u001b[0mb\u001b[0m \u001b[0;34m+\u001b[0m \u001b[0mnp\u001b[0m\u001b[0;34m.\u001b[0m\u001b[0mlog\u001b[0m\u001b[0;34m(\u001b[0m\u001b[0mnp\u001b[0m\u001b[0;34m.\u001b[0m\u001b[0msum\u001b[0m\u001b[0;34m(\u001b[0m\u001b[0mnp\u001b[0m\u001b[0;34m.\u001b[0m\u001b[0mexp\u001b[0m\u001b[0;34m(\u001b[0m\u001b[0ma\u001b[0m\u001b[0;34m-\u001b[0m\u001b[0mb\u001b[0m\u001b[0;34m)\u001b[0m\u001b[0;34m)\u001b[0m\u001b[0;34m)\u001b[0m\u001b[0;34m)\u001b[0m\u001b[0;34m\u001b[0m\u001b[0m\n",
      "\u001b[0;31mKeyboardInterrupt\u001b[0m: "
     ]
    }
   ],
   "source": [
    "np.random.seed(77)\n",
    "Cit1, CT2mat1 = BaumWelch2(Cn1, 50, Ck1, CxNotes, Cpi1, CTmat1, Cphi1, 0.001)\n",
    "Cit2, CT2mat2 = BaumWelch2(Cn2, 50, Ck2, CxVel, Cpi2, CTmat2, Cphi2, 0.001)\n",
    "\n",
    "Dit1, DT2mat1 = BaumWelch2(Dn1, 50, Dk1, DxNotes, Dpi1, DTmat1, Dphi1, 0.001)\n",
    "Dit2, DT2mat2 = BaumWelch2(Dn2, 50, Dk2, DxVel, Dpi2, DTmat2, Dphi2, 0.001)\n",
    "\n",
    "Jit1, JT2mat1 = BaumWelch2(Jn1, 50, Jk1, JxNotes, Jpi1, JTmat1, Jphi1, 0.001)\n",
    "Jit2, JT2mat2 = BaumWelch2(Jn2, 50, Jk2, JxVel, Jpi2, JTmat2, Jphi2, 0.001)\n",
    "\n",
    "Pit1, PT2mat1 = BaumWelch2(Pn1, 50, Pk1, PxNotes, Ppi1, PTmat1, Pphi1, 0.001)\n",
    "Pit2, PT2mat2 = BaumWelch2(Pn2, 50, Pk2, PxVel, Ppi2, PTmat2, Pphi2, 0.001)"
   ]
  },
  {
   "cell_type": "code",
   "execution_count": 79,
   "metadata": {
    "collapsed": false
   },
   "outputs": [
    {
     "name": "stderr",
     "output_type": "stream",
     "text": [
      "/Users/annayanchenko/anaconda3/lib/python3.5/site-packages/ipykernel/__main__.py:3: DeprecationWarning: using a non-integer number instead of an integer will result in an error in the future\n",
      "  app.launch_new_instance()\n"
     ]
    },
    {
     "name": "stdout",
     "output_type": "stream",
     "text": [
      "0\n"
     ]
    },
    {
     "name": "stderr",
     "output_type": "stream",
     "text": [
      "/Users/annayanchenko/anaconda3/lib/python3.5/site-packages/ipykernel/__main__.py:4: DeprecationWarning: using a non-integer number instead of an integer will result in an error in the future\n"
     ]
    },
    {
     "name": "stdout",
     "output_type": "stream",
     "text": [
      "0\n"
     ]
    },
    {
     "name": "stderr",
     "output_type": "stream",
     "text": [
      "/Users/annayanchenko/anaconda3/lib/python3.5/site-packages/ipykernel/__main__.py:6: DeprecationWarning: using a non-integer number instead of an integer will result in an error in the future\n"
     ]
    },
    {
     "name": "stdout",
     "output_type": "stream",
     "text": [
      "0\n"
     ]
    },
    {
     "name": "stderr",
     "output_type": "stream",
     "text": [
      "/Users/annayanchenko/anaconda3/lib/python3.5/site-packages/ipykernel/__main__.py:7: DeprecationWarning: using a non-integer number instead of an integer will result in an error in the future\n"
     ]
    },
    {
     "name": "stdout",
     "output_type": "stream",
     "text": [
      "0\n"
     ]
    }
   ],
   "source": [
    "np.random.seed(77)\n",
    "\n",
    "Jit1, JT2mat1 = BaumWelch2(Jn1, 50, Jk1, JxNotes, Jpi1, JTmat1, Jphi1, 0.001)\n",
    "Jit2, JT2mat2 = BaumWelch2(Jn2, 50, Jk2, JxVel, Jpi2, JTmat2, Jphi2, 0.001)\n",
    "\n",
    "Pit1, PT2mat1 = BaumWelch2(Pn1, 50, Pk1, PxNotes, Ppi1, PTmat1, Pphi1, 0.001)\n",
    "Pit2, PT2mat2 = BaumWelch2(Pn2, 50, Pk2, PxVel, Ppi2, PTmat2, Pphi2, 0.001)"
   ]
  },
  {
   "cell_type": "code",
   "execution_count": 65,
   "metadata": {
    "collapsed": false
   },
   "outputs": [],
   "source": [
    "def decode(x, code):\n",
    "    output = np.zeros(len(x))\n",
    "    for i in range(0, len(x)):\n",
    "        output[i] = code[x[i]]\n",
    "    return output"
   ]
  },
  {
   "cell_type": "code",
   "execution_count": 66,
   "metadata": {
    "collapsed": true
   },
   "outputs": [],
   "source": [
    "def hmm(n, pi, phi, Tmat, T2mat, code):\n",
    "    m = Tmat.shape[0]\n",
    "    k = phi.shape[1]\n",
    "    zstates = range(0, m)\n",
    "    xstates = range(0, k)\n",
    "    z = np.zeros(n)\n",
    "    x = np.zeros(n)\n",
    "    z[0] = np.random.choice(zstates, size = 1,  p = pi)\n",
    "    z[1] = np.random.choice(zstates, size = 1,  p = Tmat[z[0], :])\n",
    "    for j in range(2, n):\n",
    "        z[j] = np.random.choice(zstates, size = 1,  p = T2mat[z[j-2],z[j-1], :])\n",
    "    for i in range(0, n):\n",
    "        x[i] = np.random.choice(xstates, size =1, p = phi[z[i], :])\n",
    "    output = decode(x, code)\n",
    "    return output\n"
   ]
  },
  {
   "cell_type": "code",
   "execution_count": 34,
   "metadata": {
    "collapsed": false
   },
   "outputs": [
    {
     "data": {
      "text/plain": [
       "0.011695355479488755"
      ]
     },
     "execution_count": 34,
     "metadata": {},
     "output_type": "execute_result"
    }
   ],
   "source": [
    "zstates = range(0, m)\n",
    "Jpi1"
   ]
  },
  {
   "cell_type": "code",
   "execution_count": 76,
   "metadata": {
    "collapsed": false
   },
   "outputs": [
    {
     "data": {
      "text/plain": [
       "(50, 50, 50)"
      ]
     },
     "execution_count": 76,
     "metadata": {},
     "output_type": "execute_result"
    }
   ],
   "source": [
    "DT2mat2.shape"
   ]
  },
  {
   "cell_type": "code",
   "execution_count": 77,
   "metadata": {
    "collapsed": false
   },
   "outputs": [
    {
     "name": "stderr",
     "output_type": "stream",
     "text": [
      "/Users/annayanchenko/anaconda3/lib/python3.5/site-packages/ipykernel/__main__.py:9: DeprecationWarning: using a non-integer number instead of an integer will result in an error in the future\n",
      "/Users/annayanchenko/anaconda3/lib/python3.5/site-packages/ipykernel/__main__.py:11: DeprecationWarning: using a non-integer number instead of an integer will result in an error in the future\n",
      "/Users/annayanchenko/anaconda3/lib/python3.5/site-packages/ipykernel/__main__.py:13: DeprecationWarning: using a non-integer number instead of an integer will result in an error in the future\n",
      "/Users/annayanchenko/anaconda3/lib/python3.5/site-packages/ipykernel/__main__.py:4: DeprecationWarning: using a non-integer number instead of an integer will result in an error in the future\n"
     ]
    }
   ],
   "source": [
    "CnewNotes = hmm(Cn1, Cpi1, Cphi1, CTmat1, CT2mat1, CpossibleNotes)\n",
    "CnewVelocities = hmm(Cn2, Cpi2, Cphi2, CTmat2, CT2mat2, CpossibleVelocities)\n",
    "\n",
    "DnewNotes = hmm(Dn1, Dpi1, Dphi1, DTmat1, DT2mat1, DpossibleNotes)\n",
    "DnewVelocities = hmm(Dn2, Dpi2, Dphi2, DTmat2, DT2mat2, DpossibleVelocities)\n",
    "\n",
    "# JnewNotes = hmm(Jn1, Jpi1, Jphi1, JTmat1, JT2mat1, JpossibleNotes)\n",
    "# JnewVelocities = hmm(Jn2, Jpi2, Jphi2, JTmat2, JT2mat2,JpossibleVelocities)\n",
    "\n",
    "# PnewNotes = hmm(Pn1, Ppi1, Pphi1, PTmat1, PpossibleNotes)\n",
    "# PnewVelocities = hmm(Pn2, Ppi2, Pphi2, PTmat2, PpossibleVelocities)"
   ]
  },
  {
   "cell_type": "code",
   "execution_count": 81,
   "metadata": {
    "collapsed": false
   },
   "outputs": [
    {
     "name": "stderr",
     "output_type": "stream",
     "text": [
      "/Users/annayanchenko/anaconda3/lib/python3.5/site-packages/ipykernel/__main__.py:9: DeprecationWarning: using a non-integer number instead of an integer will result in an error in the future\n",
      "/Users/annayanchenko/anaconda3/lib/python3.5/site-packages/ipykernel/__main__.py:11: DeprecationWarning: using a non-integer number instead of an integer will result in an error in the future\n",
      "/Users/annayanchenko/anaconda3/lib/python3.5/site-packages/ipykernel/__main__.py:13: DeprecationWarning: using a non-integer number instead of an integer will result in an error in the future\n",
      "/Users/annayanchenko/anaconda3/lib/python3.5/site-packages/ipykernel/__main__.py:4: DeprecationWarning: using a non-integer number instead of an integer will result in an error in the future\n"
     ]
    }
   ],
   "source": [
    "JnewNotes = hmm(Jn1, Jpi1, Jphi1, JTmat1, JT2mat1, JpossibleNotes)\n",
    "JnewVelocities = hmm(Jn2, Jpi2, Jphi2, JTmat2, JT2mat2,JpossibleVelocities)\n",
    "\n",
    "PnewNotes = hmm(Pn1, Ppi1, Pphi1, PTmat1, PT2mat1, PpossibleNotes)\n",
    "PnewVelocities = hmm(Pn2, Ppi2, Pphi2, PTmat2, PT2mat2, PpossibleVelocities)"
   ]
  },
  {
   "cell_type": "code",
   "execution_count": 78,
   "metadata": {
    "collapsed": false
   },
   "outputs": [],
   "source": [
    "Coutput = pd.DataFrame(CnewNotes)\n",
    "Coutput[\"vel\"] = CnewVelocities\n",
    "Coutput.to_csv(\"clair-de-luneRemix2.csv\")\n",
    "\n",
    "Doutput = pd.DataFrame(DnewNotes)\n",
    "Doutput[\"vel\"] = DnewVelocities\n",
    "Doutput.to_csv(\"Dvorak9Remix2.csv\")\n",
    "\n",
    "# Joutput = pd.DataFrame(JnewNotes)\n",
    "# Joutput[\"vel\"] = JnewVelocities\n",
    "# Joutput.to_csv(\"jupiterRemix2.csv\")\n",
    "\n",
    "# Poutput = pd.DataFrame(PnewNotes)\n",
    "# Poutput[\"vel\"] = PnewVelocities\n",
    "# Poutput.to_csv(\"pachelbelRemix.csv\")"
   ]
  },
  {
   "cell_type": "code",
   "execution_count": 82,
   "metadata": {
    "collapsed": true
   },
   "outputs": [],
   "source": [
    "Joutput = pd.DataFrame(JnewNotes)\n",
    "Joutput[\"vel\"] = JnewVelocities\n",
    "Joutput.to_csv(\"jupiterRemix2.csv\")\n",
    "\n",
    "Poutput = pd.DataFrame(PnewNotes)\n",
    "Poutput[\"vel\"] = PnewVelocities\n",
    "Poutput.to_csv(\"pachelbelRemix2.csv\")"
   ]
  },
  {
   "cell_type": "code",
   "execution_count": null,
   "metadata": {
    "collapsed": true
   },
   "outputs": [],
   "source": []
  }
 ],
 "metadata": {
  "kernelspec": {
   "display_name": "Python 3",
   "language": "python",
   "name": "python3"
  },
  "language_info": {
   "codemirror_mode": {
    "name": "ipython",
    "version": 3
   },
   "file_extension": ".py",
   "mimetype": "text/x-python",
   "name": "python",
   "nbconvert_exporter": "python",
   "pygments_lexer": "ipython3",
   "version": "3.5.1"
  }
 },
 "nbformat": 4,
 "nbformat_minor": 0
}
