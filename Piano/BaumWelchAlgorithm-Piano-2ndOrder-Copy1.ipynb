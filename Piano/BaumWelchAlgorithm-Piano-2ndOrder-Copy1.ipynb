{
 "cells": [
  {
   "cell_type": "code",
   "execution_count": 1,
   "metadata": {
    "collapsed": false,
    "scrolled": false
   },
   "outputs": [],
   "source": [
    "import numpy as np\n",
    "import pandas as pd\n",
    "import numba"
   ]
  },
  {
   "cell_type": "code",
   "execution_count": 2,
   "metadata": {
    "collapsed": false
   },
   "outputs": [],
   "source": [
    "clair = pd.read_csv(\"CSV/clair-de-lune.csv\", skiprows = 192, header = None).dropna(axis = 0)\n",
    "dvorak = pd.read_csv(\"CSV/Dvorak9Largo.csv\", skiprows = 98, header = None).dropna(axis = 0)\n",
    "jupiter = pd.read_csv(\"CSV/Jupiter.csv\", skiprows = 39, header = None).dropna(axis = 0)\n",
    "pachelbel = pd.read_csv(\"CSV/pachelbel.csv\", skiprows = 27, header = None).dropna(axis = 0)"
   ]
  },
  {
   "cell_type": "code",
   "execution_count": 3,
   "metadata": {
    "collapsed": false
   },
   "outputs": [],
   "source": [
    "#Select Notes and velocity columns#\n",
    "Cnotes = clair.ix[:,4]\n",
    "Cvelocity = clair.ix[:,5]\n",
    "\n",
    "#Find possible unique notes and velocities\n",
    "CpossibleNotes = np.unique(Cnotes)\n",
    "CpossibleVelocities =  np.unique(Cvelocity)\n",
    "\n",
    "\n",
    "#Select Notes and velocity columns#\n",
    "Dnotes = dvorak.ix[:,4]\n",
    "Dvelocity = dvorak.ix[:,5]\n",
    "\n",
    "#Find possible unique notes and velocities\n",
    "DpossibleNotes = np.unique(Dnotes)\n",
    "DpossibleVelocities =  np.unique(Dvelocity)\n",
    "\n",
    "#Select Notes and velocity columns#\n",
    "Jnotes = jupiter.ix[:,4]\n",
    "Jvelocity = jupiter.ix[:,5]\n",
    "\n",
    "#Find possible unique notes and velocities\n",
    "JpossibleNotes = np.unique(Jnotes)\n",
    "JpossibleVelocities =  np.unique(Jvelocity)\n",
    "\n",
    "#Select Notes and velocity columns#\n",
    "Pnotes = pachelbel.ix[:,4]\n",
    "Pvelocity = pachelbel.ix[:,5]\n",
    "\n",
    "#Find possible unique notes and velocities\n",
    "PpossibleNotes = np.unique(Pnotes)\n",
    "PpossibleVelocities =  np.unique(Pvelocity)"
   ]
  },
  {
   "cell_type": "code",
   "execution_count": 4,
   "metadata": {
    "collapsed": false
   },
   "outputs": [],
   "source": [
    "Ck1 = len(CpossibleNotes)\n",
    "Ck2 = len(CpossibleVelocities)\n",
    "\n",
    "Dk1 = len(DpossibleNotes)\n",
    "Dk2 = len(DpossibleVelocities)\n",
    "\n",
    "Jk1 = len(JpossibleNotes)\n",
    "Jk2 = len(JpossibleVelocities)\n",
    "\n",
    "Pk1 = len(PpossibleNotes)\n",
    "Pk2 = len(PpossibleVelocities)\n"
   ]
  },
  {
   "cell_type": "code",
   "execution_count": 5,
   "metadata": {
    "collapsed": true
   },
   "outputs": [],
   "source": [
    "def encode(x, code):\n",
    "    output = np.zeros(len(x))\n",
    "    for i in range(0, len(x)):\n",
    "        output[i] = int(np.where(code == x[i])[0]) \n",
    "    return output"
   ]
  },
  {
   "cell_type": "code",
   "execution_count": 6,
   "metadata": {
    "collapsed": false
   },
   "outputs": [],
   "source": [
    "CxNotes = encode(Cnotes, CpossibleNotes)\n",
    "CxVel = encode(Cvelocity, CpossibleVelocities)\n",
    "\n",
    "DxNotes = encode(Dnotes, DpossibleNotes)\n",
    "DxVel = encode(Dvelocity, DpossibleVelocities)\n",
    "\n",
    "JxNotes = encode(Jnotes, JpossibleNotes)\n",
    "JxVel = encode(Jvelocity, JpossibleVelocities)\n",
    "\n",
    "PxNotes = encode(Pnotes, PpossibleNotes)\n",
    "PxVel = encode(Pvelocity, PpossibleVelocities)"
   ]
  },
  {
   "cell_type": "code",
   "execution_count": 14,
   "metadata": {
    "collapsed": false
   },
   "outputs": [],
   "source": [
    "#@numba.njit()\n",
    "#Function using the log-sum-exp trick#\n",
    "def logSumExp(a):\n",
    "    b = np.max(a)\n",
    "    return(b + np.log(np.sum(np.exp(a-b))))\n",
    "\n",
    "#####################\n",
    "##Forward Algorithm##\n",
    "#####################\n",
    "\n",
    "#Function to run forward algorithm, arguments are n = # obs, m = # states for z,#\n",
    "#k = # states for x, pi = initial distribution(m vector), \n",
    "#Tmat = transition matrix (mxm), phi = emission distribution (m x k matrix)#\n",
    "#x is the observed data#\n",
    "#takes log of pi, Tmat and phi\n",
    "@numba.jit()\n",
    "def forwardAlg(n, m, k, pi, Tmat, T2mat, phi, x):\n",
    "    g = np.zeros((n,m))\n",
    "    G = np.zeros((n, m, m))\n",
    "    for i in range(0,m):\n",
    "        g[0,i] = (pi[i]) + (phi[i, x[0]])\n",
    "        for j in range(0, m):\n",
    "            G[1,i,j] = g[0,i] + Tmat[i,j] + phi[j, x[1]]\n",
    "    \n",
    "    for j in range(1, n):\n",
    "        for l in range(0, m):\n",
    "            g[j,l] = logSumExp(g[j-1, :]+(Tmat[:,l])+(phi[l,x[j]]))\n",
    "            if j != 1:\n",
    "                for t in range(0,m):\n",
    "                    G[j,l,t] = logSumExp(G[j-1,:,l] + T2mat[:,l,t] + phi[t, x[j]])\n",
    "    return(g, G)\n",
    "\n",
    "\n",
    "\n",
    "def pForward(g, x):\n",
    "    pXf = logSumExp(g[len(x),:])\n",
    "    return(pXf)"
   ]
  },
  {
   "cell_type": "code",
   "execution_count": 15,
   "metadata": {
    "collapsed": false
   },
   "outputs": [
    {
     "name": "stderr",
     "output_type": "stream",
     "text": [
      "/Users/annayanchenko/anaconda3/lib/python3.5/site-packages/ipykernel/__main__.py:21: DeprecationWarning: using a non-integer number instead of an integer will result in an error in the future\n"
     ]
    },
    {
     "data": {
      "text/plain": [
       "array([[[    0.        ,     0.        ,     0.        , ...,\n",
       "             0.        ,     0.        ,     0.        ],\n",
       "        [    0.        ,     0.        ,     0.        , ...,\n",
       "             0.        ,     0.        ,     0.        ],\n",
       "        [    0.        ,     0.        ,     0.        , ...,\n",
       "             0.        ,     0.        ,     0.        ],\n",
       "        ..., \n",
       "        [    0.        ,     0.        ,     0.        , ...,\n",
       "             0.        ,     0.        ,     0.        ],\n",
       "        [    0.        ,     0.        ,     0.        , ...,\n",
       "             0.        ,     0.        ,     0.        ],\n",
       "        [    0.        ,     0.        ,     0.        , ...,\n",
       "             0.        ,     0.        ,     0.        ]],\n",
       "\n",
       "       [[  -11.19684392,   -11.19684392,   -11.19684392, ...,\n",
       "           -11.19684392,   -11.19684392,   -11.19684392],\n",
       "        [  -11.19684392,   -11.19684392,   -11.19684392, ...,\n",
       "           -11.19684392,   -11.19684392,   -11.19684392],\n",
       "        [  -11.19684392,   -11.19684392,   -11.19684392, ...,\n",
       "           -11.19684392,   -11.19684392,   -11.19684392],\n",
       "        ..., \n",
       "        [  -11.19684392,   -11.19684392,   -11.19684392, ...,\n",
       "           -11.19684392,   -11.19684392,   -11.19684392],\n",
       "        [  -11.19684392,   -11.19684392,   -11.19684392, ...,\n",
       "           -11.19684392,   -11.19684392,   -11.19684392],\n",
       "        [  -11.19684392,   -11.19684392,   -11.19684392, ...,\n",
       "           -11.19684392,   -11.19684392,   -11.19684392]],\n",
       "\n",
       "       [[  -14.49268078,   -14.49268078,   -14.49268078, ...,\n",
       "           -14.49268078,   -14.49268078,   -14.49268078],\n",
       "        [  -14.49268078,   -14.49268078,   -14.49268078, ...,\n",
       "           -14.49268078,   -14.49268078,   -14.49268078],\n",
       "        [  -14.49268078,   -14.49268078,   -14.49268078, ...,\n",
       "           -14.49268078,   -14.49268078,   -14.49268078],\n",
       "        ..., \n",
       "        [  -14.49268078,   -14.49268078,   -14.49268078, ...,\n",
       "           -14.49268078,   -14.49268078,   -14.49268078],\n",
       "        [  -14.49268078,   -14.49268078,   -14.49268078, ...,\n",
       "           -14.49268078,   -14.49268078,   -14.49268078],\n",
       "        [  -14.49268078,   -14.49268078,   -14.49268078, ...,\n",
       "           -14.49268078,   -14.49268078,   -14.49268078]],\n",
       "\n",
       "       ..., \n",
       "       [[-3840.95928221, -3840.95928221, -3840.95928221, ...,\n",
       "         -3840.95928221, -3840.95928221, -3840.95928221],\n",
       "        [-3840.95928221, -3840.95928221, -3840.95928221, ...,\n",
       "         -3840.95928221, -3840.95928221, -3840.95928221],\n",
       "        [-3840.95928221, -3840.95928221, -3840.95928221, ...,\n",
       "         -3840.95928221, -3840.95928221, -3840.95928221],\n",
       "        ..., \n",
       "        [-3840.95928221, -3840.95928221, -3840.95928221, ...,\n",
       "         -3840.95928221, -3840.95928221, -3840.95928221],\n",
       "        [-3840.95928221, -3840.95928221, -3840.95928221, ...,\n",
       "         -3840.95928221, -3840.95928221, -3840.95928221],\n",
       "        [-3840.95928221, -3840.95928221, -3840.95928221, ...,\n",
       "         -3840.95928221, -3840.95928221, -3840.95928221]],\n",
       "\n",
       "       [[-3844.25511908, -3844.25511908, -3844.25511908, ...,\n",
       "         -3844.25511908, -3844.25511908, -3844.25511908],\n",
       "        [-3844.25511908, -3844.25511908, -3844.25511908, ...,\n",
       "         -3844.25511908, -3844.25511908, -3844.25511908],\n",
       "        [-3844.25511908, -3844.25511908, -3844.25511908, ...,\n",
       "         -3844.25511908, -3844.25511908, -3844.25511908],\n",
       "        ..., \n",
       "        [-3844.25511908, -3844.25511908, -3844.25511908, ...,\n",
       "         -3844.25511908, -3844.25511908, -3844.25511908],\n",
       "        [-3844.25511908, -3844.25511908, -3844.25511908, ...,\n",
       "         -3844.25511908, -3844.25511908, -3844.25511908],\n",
       "        [-3844.25511908, -3844.25511908, -3844.25511908, ...,\n",
       "         -3844.25511908, -3844.25511908, -3844.25511908]],\n",
       "\n",
       "       [[-3847.55095595, -3847.55095595, -3847.55095595, ...,\n",
       "         -3847.55095595, -3847.55095595, -3847.55095595],\n",
       "        [-3847.55095595, -3847.55095595, -3847.55095595, ...,\n",
       "         -3847.55095595, -3847.55095595, -3847.55095595],\n",
       "        [-3847.55095595, -3847.55095595, -3847.55095595, ...,\n",
       "         -3847.55095595, -3847.55095595, -3847.55095595],\n",
       "        ..., \n",
       "        [-3847.55095595, -3847.55095595, -3847.55095595, ...,\n",
       "         -3847.55095595, -3847.55095595, -3847.55095595],\n",
       "        [-3847.55095595, -3847.55095595, -3847.55095595, ...,\n",
       "         -3847.55095595, -3847.55095595, -3847.55095595],\n",
       "        [-3847.55095595, -3847.55095595, -3847.55095595, ...,\n",
       "         -3847.55095595, -3847.55095595, -3847.55095595]]])"
      ]
     },
     "execution_count": 15,
     "metadata": {},
     "output_type": "execute_result"
    }
   ],
   "source": [
    "m = 10\n",
    "Cn1 = len(CxNotes)\n",
    "Cn2 = len(CxVel)\n",
    "\n",
    "Dn1 = len(DxNotes)\n",
    "Dn2 = len(DxVel)\n",
    "\n",
    "Jn1 = len(JxNotes)\n",
    "Jn2 = len(JxVel)\n",
    "\n",
    "Pn1 = len(PxNotes)\n",
    "Pn2 = len(PxVel)\n",
    "\n",
    "k1 = len(JpossibleNotes)\n",
    "\n",
    "\n",
    "pi1 = np.full(m, 1/m)\n",
    "phi1 = np.full((m,k1), 1/k1)\n",
    "Tmat1 = np.full((m,m), 1/m)\n",
    "T2mat1 = np.full((m,m,m), 1/m)\n",
    "g1, G1 = forwardAlg(Jn1, m, k1, np.log(pi1), np.log(Tmat1), np.log(T2mat1), np.log(phi1), JxNotes)\n",
    "G1"
   ]
  },
  {
   "cell_type": "code",
   "execution_count": 47,
   "metadata": {
    "collapsed": false
   },
   "outputs": [
    {
     "name": "stderr",
     "output_type": "stream",
     "text": [
      "/Users/annayanchenko/anaconda3/lib/python3.5/site-packages/ipykernel/__main__.py:1: DeprecationWarning: using a non-integer number instead of an integer will result in an error in the future\n",
      "  if __name__ == '__main__':\n"
     ]
    },
    {
     "data": {
      "text/plain": [
       "-10190.648290046434"
      ]
     },
     "execution_count": 47,
     "metadata": {},
     "output_type": "execute_result"
    }
   ],
   "source": [
    "g = forwardAlg(n1,m,k1,np.log(pi1),np.log(Tmat1),np.log(phi1),xNotes)\n",
    "pXf = pForward(g,xNotes)\n",
    "pXf"
   ]
  },
  {
   "cell_type": "code",
   "execution_count": 9,
   "metadata": {
    "collapsed": false
   },
   "outputs": [],
   "source": [
    "@numba.jit()\n",
    "def backwardAlg(n, m, k, pi, Tmat, phi, x):\n",
    "    r = np.zeros((n,m))\n",
    "    for j in range(n-2, -1, -1):\n",
    "        for l in range(0, m):\n",
    "            r[j, l] = logSumExp(r[j+1,: ] + Tmat[l,:] + phi[:, x[j+1]])\n",
    "    \n",
    "    return(r)\n",
    "@numba.jit()\n",
    "#Function to return p(x_1:n) from matrix from backward algorithm\n",
    "def pBackward(r, pi, phi, x):\n",
    "    pXb = logSumExp(r[0,: ]+ pi +phi[:,x[0]])\n",
    "    return(pXb)"
   ]
  },
  {
   "cell_type": "code",
   "execution_count": 18,
   "metadata": {
    "collapsed": false
   },
   "outputs": [
    {
     "data": {
      "text/plain": [
       "1166"
      ]
     },
     "execution_count": 18,
     "metadata": {},
     "output_type": "execute_result"
    }
   ],
   "source": [
    "# def pForward(g, x):\n",
    "#     pXf = logSumExp(g[len(x),:])\n",
    "#     return(pXf)\n",
    "len(JxNotes)"
   ]
  },
  {
   "cell_type": "code",
   "execution_count": 45,
   "metadata": {
    "collapsed": false,
    "scrolled": true
   },
   "outputs": [
    {
     "name": "stderr",
     "output_type": "stream",
     "text": [
      "/Users/annayanchenko/anaconda3/lib/python3.5/site-packages/ipykernel/__main__.py:1: DeprecationWarning: using a non-integer number instead of an integer will result in an error in the future\n",
      "  if __name__ == '__main__':\n",
      "/Users/annayanchenko/anaconda3/lib/python3.5/site-packages/ipykernel/__main__.py:2: DeprecationWarning: using a non-integer number instead of an integer will result in an error in the future\n",
      "  from ipykernel import kernelapp as app\n"
     ]
    },
    {
     "data": {
      "text/plain": [
       "-10190.648290046433"
      ]
     },
     "execution_count": 45,
     "metadata": {},
     "output_type": "execute_result"
    }
   ],
   "source": [
    "r = backwardAlg(n1, m, k1, np.log(pi1), np.log(Tmat1), np.log(phi1), xNotes)\n",
    "pBackward(r, np.log(pi1), np.log(phi1), xNotes)"
   ]
  },
  {
   "cell_type": "code",
   "execution_count": 16,
   "metadata": {
    "collapsed": false
   },
   "outputs": [],
   "source": [
    "@numba.jit()\n",
    "def BaumWelch(n, m, k, x, tol):\n",
    "    #randomly initialize pi, phi and T#\n",
    "    vals = np.random.rand(m)\n",
    "    pi = np.log(vals/np.sum(vals))\n",
    "    Tmat = np.zeros(shape = (m, m))\n",
    "    phi = np.zeros(shape = (m, k))\n",
    "    T2matOld = np.zeros(shape = (m,m,m))\n",
    "    T2matNew = np.zeros(shape = (m,m,m))\n",
    "    for i in range(0, m):\n",
    "        vals1 = np.random.rand(m)\n",
    "        Tmat[i, ] = np.log(vals1/np.sum(vals1))\n",
    "        vals2 = np.random.rand(k)\n",
    "        phi[i, ] = np.log(vals2/np.sum(vals2))\n",
    "        for j in range(0,m):\n",
    "            vals3 = np.random.rand(m)\n",
    "            T2matOld[i,j, ] = np.log(vals3/np.sum(vals3))\n",
    "    \n",
    "    iterations = 0\n",
    "    convergence = 0\n",
    "    pOld = 1E10\n",
    "    \n",
    "    #Initialize matricies for gamma and beta values#\n",
    "    gamma = np.zeros(shape = (n, m))\n",
    "    beta = np.zeros(shape = (n,m,m))\n",
    "    \n",
    "    #Stop iterations when log(p(x_1:n)) differs by tol between iterations#\n",
    "    while convergence == 0:\n",
    "        #Perform forward and backward algorithms# \n",
    "        g = forwardAlg(n, m, k, pi, Tmat, T2matOld, phi, x)\n",
    "        h = backwardAlg(n, m, k, pi, Tmat, phi, x)\n",
    "        pNew = pForward(g, x)\n",
    "        \n",
    "        ##E-Step##\n",
    "    \n",
    "        #Calculate gamma and beta#\n",
    "        for t in range(0, n):\n",
    "            gamma[t,] = g[t,] + h[t,] - pNew\n",
    "        for t in range(0, n):\n",
    "            for i in range(0, m):\n",
    "                for j in range(0, m):\n",
    "                    if t == 1:\n",
    "                        beta[t,i,j] = 1\n",
    "                    else:\n",
    "                        beta[t,i,j] = Tmat[i,j] + phi[j, x[t]] + g[t-1, i] + h[t, j] - pNew\n",
    "        ##M-Step##\n",
    "    \n",
    "        #Update pi, phi and Tmat#\n",
    "        pi = gamma[0,] - logSumExp(gamma[0,])\n",
    "        for i in range(0, m):\n",
    "            for j in range(0, m):\n",
    "                Tmat[i,j] = logSumExp(beta[range(1, n), i, j]) - logSumExp(beta[range(1,n), i, ])\n",
    "                for q in range(0,m):\n",
    "                    T2matNew[i,j,q] = logSumExp(G[range(1, n-1),i,j] + T2matOld[i,j,q] + \n",
    "                                                phiOld[k, x[2:n]] + h[range(2,n),q])\n",
    "                T2matNew[i,j,] = T2matNew[i,j,] - logSumExp(T2matNew[i,j,:])\n",
    "        for i in range(0,m):\n",
    "            for w in range(0, k):\n",
    "                indicies = np.where(x == w)\n",
    "                phi[i,w] = logSumExp(gamma[indicies, i]) - logSumExp(gamma[:,i])\n",
    "        \n",
    "        criteria = abs(pOld - pNew)\n",
    "        if criteria < tol:\n",
    "            convergence = 1\n",
    "        else:\n",
    "            convergence = 0\n",
    "            pOld = pNew\n",
    "            T2matOld = T2matNew\n",
    "            iterations +=1\n",
    "        return (iterations, pNew, np.exp(pi), np.exp(phi), np.exp(Tmat), np.exp(T2mat))\n",
    "        \n"
   ]
  },
  {
   "cell_type": "code",
   "execution_count": 17,
   "metadata": {
    "collapsed": false
   },
   "outputs": [
    {
     "ename": "TypeError",
     "evalue": "tuple indices must be integers or slices, not tuple",
     "output_type": "error",
     "traceback": [
      "\u001b[0;31m---------------------------------------------------------------------------\u001b[0m",
      "\u001b[0;31mTypeError\u001b[0m                                 Traceback (most recent call last)",
      "\u001b[0;32m<ipython-input-17-a0318dd6fcd5>\u001b[0m in \u001b[0;36m<module>\u001b[0;34m()\u001b[0m\n\u001b[1;32m      1\u001b[0m \u001b[0mnp\u001b[0m\u001b[0;34m.\u001b[0m\u001b[0mrandom\u001b[0m\u001b[0;34m.\u001b[0m\u001b[0mseed\u001b[0m\u001b[0;34m(\u001b[0m\u001b[0;36m17\u001b[0m\u001b[0;34m)\u001b[0m\u001b[0;34m\u001b[0m\u001b[0m\n\u001b[0;32m----> 2\u001b[0;31m \u001b[0mJit1\u001b[0m\u001b[0;34m,\u001b[0m \u001b[0mJp1\u001b[0m\u001b[0;34m,\u001b[0m \u001b[0mJpi1\u001b[0m\u001b[0;34m,\u001b[0m \u001b[0mJphi1\u001b[0m\u001b[0;34m,\u001b[0m \u001b[0mJTmat1\u001b[0m\u001b[0;34m,\u001b[0m \u001b[0mJT2mat1\u001b[0m \u001b[0;34m=\u001b[0m \u001b[0mBaumWelch\u001b[0m\u001b[0;34m(\u001b[0m\u001b[0mJn1\u001b[0m\u001b[0;34m,\u001b[0m \u001b[0;36m10\u001b[0m\u001b[0;34m,\u001b[0m \u001b[0mJk1\u001b[0m\u001b[0;34m,\u001b[0m \u001b[0mJxNotes\u001b[0m\u001b[0;34m.\u001b[0m\u001b[0mastype\u001b[0m\u001b[0;34m(\u001b[0m\u001b[0mint\u001b[0m\u001b[0;34m)\u001b[0m\u001b[0;34m,\u001b[0m \u001b[0;36m0.0001\u001b[0m\u001b[0;34m)\u001b[0m\u001b[0;34m\u001b[0m\u001b[0m\n\u001b[0m\u001b[1;32m      3\u001b[0m \u001b[0mJit2\u001b[0m\u001b[0;34m,\u001b[0m \u001b[0mJp2\u001b[0m\u001b[0;34m,\u001b[0m \u001b[0mJpi2\u001b[0m\u001b[0;34m,\u001b[0m \u001b[0mJphi2\u001b[0m\u001b[0;34m,\u001b[0m \u001b[0mJTmat2\u001b[0m\u001b[0;34m,\u001b[0m \u001b[0mJT2mat2\u001b[0m \u001b[0;34m=\u001b[0m \u001b[0mBaumWelch\u001b[0m\u001b[0;34m(\u001b[0m\u001b[0mJn2\u001b[0m\u001b[0;34m,\u001b[0m \u001b[0;36m10\u001b[0m\u001b[0;34m,\u001b[0m \u001b[0mJk2\u001b[0m\u001b[0;34m,\u001b[0m \u001b[0mJxVel\u001b[0m\u001b[0;34m.\u001b[0m\u001b[0mastype\u001b[0m\u001b[0;34m(\u001b[0m\u001b[0mint\u001b[0m\u001b[0;34m)\u001b[0m\u001b[0;34m,\u001b[0m \u001b[0;36m0.0001\u001b[0m\u001b[0;34m)\u001b[0m\u001b[0;34m\u001b[0m\u001b[0m\n",
      "\u001b[0;32m<ipython-input-14-b7e4d326bab3>\u001b[0m in \u001b[0;36mpForward\u001b[0;34m(g, x)\u001b[0m\n\u001b[1;32m     34\u001b[0m \u001b[0;34m\u001b[0m\u001b[0m\n\u001b[1;32m     35\u001b[0m \u001b[0;32mdef\u001b[0m \u001b[0mpForward\u001b[0m\u001b[0;34m(\u001b[0m\u001b[0mg\u001b[0m\u001b[0;34m,\u001b[0m \u001b[0mx\u001b[0m\u001b[0;34m)\u001b[0m\u001b[0;34m:\u001b[0m\u001b[0;34m\u001b[0m\u001b[0m\n\u001b[0;32m---> 36\u001b[0;31m     \u001b[0mpXf\u001b[0m \u001b[0;34m=\u001b[0m \u001b[0mlogSumExp\u001b[0m\u001b[0;34m(\u001b[0m\u001b[0mg\u001b[0m\u001b[0;34m[\u001b[0m\u001b[0mlen\u001b[0m\u001b[0;34m(\u001b[0m\u001b[0mx\u001b[0m\u001b[0;34m)\u001b[0m\u001b[0;34m,\u001b[0m\u001b[0;34m:\u001b[0m\u001b[0;34m]\u001b[0m\u001b[0;34m)\u001b[0m\u001b[0;34m\u001b[0m\u001b[0m\n\u001b[0m\u001b[1;32m     37\u001b[0m     \u001b[0;32mreturn\u001b[0m\u001b[0;34m(\u001b[0m\u001b[0mpXf\u001b[0m\u001b[0;34m)\u001b[0m\u001b[0;34m\u001b[0m\u001b[0m\n",
      "\u001b[0;31mTypeError\u001b[0m: tuple indices must be integers or slices, not tuple"
     ]
    }
   ],
   "source": [
    "np.random.seed(17)\n",
    "Jit1, Jp1, Jpi1, Jphi1, JTmat1, JT2mat1 = BaumWelch(Jn1, 10, Jk1, JxNotes.astype(int), 0.0001)\n",
    "Jit2, Jp2, Jpi2, Jphi2, JTmat2, JT2mat2 = BaumWelch(Jn2, 10, Jk2, JxVel.astype(int), 0.0001)"
   ]
  },
  {
   "cell_type": "code",
   "execution_count": 57,
   "metadata": {
    "collapsed": false
   },
   "outputs": [
    {
     "data": {
      "text/plain": [
       "10"
      ]
     },
     "execution_count": 57,
     "metadata": {},
     "output_type": "execute_result"
    }
   ],
   "source": [
    "m"
   ]
  },
  {
   "cell_type": "code",
   "execution_count": 20,
   "metadata": {
    "collapsed": false
   },
   "outputs": [
    {
     "data": {
      "text/plain": [
       "array([[[ 0.00031263,  0.0172487 ,  0.01132697, ...,  0.02456528,\n",
       "          0.01827668,  0.01928061],\n",
       "        [ 0.00928684,  0.01893023,  0.0139213 , ...,  0.00351702,\n",
       "          0.01146965,  0.01202267],\n",
       "        [ 0.00178214,  0.01304072,  0.00337616, ...,  0.01176533,\n",
       "          0.01587449,  0.01713996],\n",
       "        ..., \n",
       "        [ 0.00513735,  0.0079902 ,  0.00933119, ...,  0.01176925,\n",
       "          0.00328517,  0.00864295],\n",
       "        [ 0.01279221,  0.01784206,  0.00057036, ...,  0.0205215 ,\n",
       "          0.0164821 ,  0.00434566],\n",
       "        [ 0.01790324,  0.01520443,  0.00890094, ...,  0.0191409 ,\n",
       "          0.00652243,  0.00424464]],\n",
       "\n",
       "       [[ 0.01650984,  0.01263545,  0.0236473 , ...,  0.02057817,\n",
       "          0.01267448,  0.01278765],\n",
       "        [ 0.02242092,  0.00853511,  0.01561717, ...,  0.01391078,\n",
       "          0.00758901,  0.0046699 ],\n",
       "        [ 0.00526881,  0.01140236,  0.01978073, ...,  0.00846643,\n",
       "          0.01634448,  0.01963015],\n",
       "        ..., \n",
       "        [ 0.01739302,  0.0022545 ,  0.02512482, ...,  0.0218686 ,\n",
       "          0.02176127,  0.02501922],\n",
       "        [ 0.01855375,  0.01611264,  0.02059857, ...,  0.00656754,\n",
       "          0.02496972,  0.01600654],\n",
       "        [ 0.00536408,  0.00827396,  0.0229168 , ...,  0.01122961,\n",
       "          0.01019328,  0.01961268]],\n",
       "\n",
       "       [[ 0.01762034,  0.00463353,  0.01925944, ...,  0.01106605,\n",
       "          0.01913588,  0.00157677],\n",
       "        [ 0.01403352,  0.01595352,  0.00573974, ...,  0.01684643,\n",
       "          0.01687798,  0.02136528],\n",
       "        [ 0.00021491,  0.01559439,  0.01011286, ...,  0.0255071 ,\n",
       "          0.02453537,  0.00845005],\n",
       "        ..., \n",
       "        [ 0.00611915,  0.0236267 ,  0.01972759, ...,  0.01670283,\n",
       "          0.00677344,  0.02759829],\n",
       "        [ 0.0239706 ,  0.00292606,  0.01684551, ...,  0.02662323,\n",
       "          0.02749101,  0.02335165],\n",
       "        [ 0.01262675,  0.011575  ,  0.02248396, ...,  0.01404341,\n",
       "          0.00175462,  0.02377917]],\n",
       "\n",
       "       ..., \n",
       "       [[ 0.00072875,  0.00322021,  0.00398007, ...,  0.02143501,\n",
       "          0.00635285,  0.01350511],\n",
       "        [ 0.00685426,  0.00070426,  0.02710713, ...,  0.02699531,\n",
       "          0.01254301,  0.00447048],\n",
       "        [ 0.02025111,  0.01113511,  0.01365645, ...,  0.01591458,\n",
       "          0.01461032,  0.01581095],\n",
       "        ..., \n",
       "        [ 0.02164859,  0.0085986 ,  0.00201212, ...,  0.02661717,\n",
       "          0.00628606,  0.02157904],\n",
       "        [ 0.02380712,  0.01674832,  0.01483754, ...,  0.01975162,\n",
       "          0.01406218,  0.02377967],\n",
       "        [ 0.0183355 ,  0.00674494,  0.01992272, ...,  0.0054124 ,\n",
       "          0.01156826,  0.01718296]],\n",
       "\n",
       "       [[ 0.01036958,  0.00247714,  0.02317087, ...,  0.0192464 ,\n",
       "          0.01957187,  0.01199556],\n",
       "        [ 0.00548595,  0.00647687,  0.00545147, ...,  0.00365188,\n",
       "          0.02046569,  0.00826434],\n",
       "        [ 0.00509769,  0.01127585,  0.01562039, ...,  0.02161392,\n",
       "          0.02137557,  0.01917639],\n",
       "        ..., \n",
       "        [ 0.01661998,  0.00777584,  0.0094303 , ...,  0.02403328,\n",
       "          0.01169014,  0.00831201],\n",
       "        [ 0.00805405,  0.01846907,  0.00104237, ...,  0.00139281,\n",
       "          0.01449705,  0.00476811],\n",
       "        [ 0.02420983,  0.0123539 ,  0.01109187, ...,  0.01293627,\n",
       "          0.00366782,  0.00530223]],\n",
       "\n",
       "       [[ 0.00331856,  0.00866409,  0.02621489, ...,  0.01304798,\n",
       "          0.02157571,  0.00699117],\n",
       "        [ 0.01380809,  0.02246678,  0.01322318, ...,  0.01809521,\n",
       "          0.00767651,  0.01922211],\n",
       "        [ 0.01653133,  0.02217826,  0.01971815, ...,  0.01869241,\n",
       "          0.01233211,  0.01184668],\n",
       "        ..., \n",
       "        [ 0.02391644,  0.01612472,  0.02147262, ...,  0.00980517,\n",
       "          0.016271  ,  0.00426818],\n",
       "        [ 0.01133502,  0.02004653,  0.02629967, ...,  0.00772918,\n",
       "          0.02318423,  0.00954994],\n",
       "        [ 0.00903031,  0.00540441,  0.01879578, ...,  0.0275869 ,\n",
       "          0.01071472,  0.01823775]]])"
      ]
     },
     "execution_count": 20,
     "metadata": {},
     "output_type": "execute_result"
    }
   ],
   "source": [
    "JT2mat1"
   ]
  },
  {
   "cell_type": "code",
   "execution_count": 25,
   "metadata": {
    "collapsed": false
   },
   "outputs": [
    {
     "ename": "KeyboardInterrupt",
     "evalue": "",
     "output_type": "error",
     "traceback": [
      "\u001b[0;31m---------------------------------------------------------------------------\u001b[0m",
      "\u001b[0;31mKeyboardInterrupt\u001b[0m                         Traceback (most recent call last)",
      "\u001b[0;32m<ipython-input-25-4ef7697ae73b>\u001b[0m in \u001b[0;36m<module>\u001b[0;34m()\u001b[0m\n\u001b[1;32m      3\u001b[0m \u001b[0mCit2\u001b[0m\u001b[0;34m,\u001b[0m \u001b[0mCp2\u001b[0m\u001b[0;34m,\u001b[0m \u001b[0mCpi2\u001b[0m\u001b[0;34m,\u001b[0m \u001b[0mCphi2\u001b[0m\u001b[0;34m,\u001b[0m \u001b[0mCTmat2\u001b[0m\u001b[0;34m,\u001b[0m \u001b[0mCT2mat2\u001b[0m \u001b[0;34m=\u001b[0m \u001b[0mBaumWelch\u001b[0m\u001b[0;34m(\u001b[0m\u001b[0mCn2\u001b[0m\u001b[0;34m,\u001b[0m \u001b[0;36m75\u001b[0m\u001b[0;34m,\u001b[0m \u001b[0mCk2\u001b[0m\u001b[0;34m,\u001b[0m \u001b[0mCxVel\u001b[0m\u001b[0;34m.\u001b[0m\u001b[0mastype\u001b[0m\u001b[0;34m(\u001b[0m\u001b[0mint\u001b[0m\u001b[0;34m)\u001b[0m\u001b[0;34m,\u001b[0m \u001b[0;36m0.0001\u001b[0m\u001b[0;34m)\u001b[0m\u001b[0;34m\u001b[0m\u001b[0m\n\u001b[1;32m      4\u001b[0m \u001b[0;34m\u001b[0m\u001b[0m\n\u001b[0;32m----> 5\u001b[0;31m \u001b[0mDit1\u001b[0m\u001b[0;34m,\u001b[0m \u001b[0mDp1\u001b[0m\u001b[0;34m,\u001b[0m \u001b[0mDpi1\u001b[0m\u001b[0;34m,\u001b[0m \u001b[0mDphi1\u001b[0m\u001b[0;34m,\u001b[0m \u001b[0mDTmat1\u001b[0m\u001b[0;34m,\u001b[0m \u001b[0mDT2mat1\u001b[0m \u001b[0;34m=\u001b[0m \u001b[0mBaumWelch\u001b[0m\u001b[0;34m(\u001b[0m\u001b[0mDn1\u001b[0m\u001b[0;34m,\u001b[0m \u001b[0;36m75\u001b[0m\u001b[0;34m,\u001b[0m \u001b[0mDk1\u001b[0m\u001b[0;34m,\u001b[0m \u001b[0mDxNotes\u001b[0m\u001b[0;34m.\u001b[0m\u001b[0mastype\u001b[0m\u001b[0;34m(\u001b[0m\u001b[0mint\u001b[0m\u001b[0;34m)\u001b[0m\u001b[0;34m,\u001b[0m \u001b[0;36m0.0001\u001b[0m\u001b[0;34m)\u001b[0m\u001b[0;34m\u001b[0m\u001b[0m\n\u001b[0m\u001b[1;32m      6\u001b[0m \u001b[0mDit2\u001b[0m\u001b[0;34m,\u001b[0m \u001b[0mDp2\u001b[0m\u001b[0;34m,\u001b[0m \u001b[0mDpi2\u001b[0m\u001b[0;34m,\u001b[0m \u001b[0mDphi2\u001b[0m\u001b[0;34m,\u001b[0m \u001b[0mDTmat2\u001b[0m\u001b[0;34m,\u001b[0m \u001b[0mDT2mat2\u001b[0m \u001b[0;34m=\u001b[0m \u001b[0mBaumWelch\u001b[0m\u001b[0;34m(\u001b[0m\u001b[0mDn2\u001b[0m\u001b[0;34m,\u001b[0m \u001b[0;36m75\u001b[0m\u001b[0;34m,\u001b[0m \u001b[0mDk2\u001b[0m\u001b[0;34m,\u001b[0m \u001b[0mDxVel\u001b[0m\u001b[0;34m,\u001b[0m \u001b[0;36m0.0001\u001b[0m\u001b[0;34m)\u001b[0m\u001b[0;34m\u001b[0m\u001b[0m\n\u001b[1;32m      7\u001b[0m \u001b[0;34m\u001b[0m\u001b[0m\n",
      "\u001b[0;32m<ipython-input-7-9cb746d2c408>\u001b[0m in \u001b[0;36mlogSumExp\u001b[0;34m(a)\u001b[0m\n\u001b[1;32m      1\u001b[0m \u001b[0;31m#@numba.njit()\u001b[0m\u001b[0;34m\u001b[0m\u001b[0;34m\u001b[0m\u001b[0m\n\u001b[1;32m      2\u001b[0m \u001b[0;31m#Function using the log-sum-exp trick#\u001b[0m\u001b[0;34m\u001b[0m\u001b[0;34m\u001b[0m\u001b[0m\n\u001b[0;32m----> 3\u001b[0;31m \u001b[0;32mdef\u001b[0m \u001b[0mlogSumExp\u001b[0m\u001b[0;34m(\u001b[0m\u001b[0ma\u001b[0m\u001b[0;34m)\u001b[0m\u001b[0;34m:\u001b[0m\u001b[0;34m\u001b[0m\u001b[0m\n\u001b[0m\u001b[1;32m      4\u001b[0m     \u001b[0mb\u001b[0m \u001b[0;34m=\u001b[0m \u001b[0mnp\u001b[0m\u001b[0;34m.\u001b[0m\u001b[0mmax\u001b[0m\u001b[0;34m(\u001b[0m\u001b[0ma\u001b[0m\u001b[0;34m)\u001b[0m\u001b[0;34m\u001b[0m\u001b[0m\n\u001b[1;32m      5\u001b[0m     \u001b[0;32mreturn\u001b[0m\u001b[0;34m(\u001b[0m\u001b[0mb\u001b[0m \u001b[0;34m+\u001b[0m \u001b[0mnp\u001b[0m\u001b[0;34m.\u001b[0m\u001b[0mlog\u001b[0m\u001b[0;34m(\u001b[0m\u001b[0mnp\u001b[0m\u001b[0;34m.\u001b[0m\u001b[0msum\u001b[0m\u001b[0;34m(\u001b[0m\u001b[0mnp\u001b[0m\u001b[0;34m.\u001b[0m\u001b[0mexp\u001b[0m\u001b[0;34m(\u001b[0m\u001b[0ma\u001b[0m\u001b[0;34m-\u001b[0m\u001b[0mb\u001b[0m\u001b[0;34m)\u001b[0m\u001b[0;34m)\u001b[0m\u001b[0;34m)\u001b[0m\u001b[0;34m)\u001b[0m\u001b[0;34m\u001b[0m\u001b[0m\n",
      "\u001b[0;31mKeyboardInterrupt\u001b[0m: "
     ]
    }
   ],
   "source": [
    "np.random.seed(732)\n",
    "Cit1, Cp1, Cpi1, Cphi1, CTmat1, CT2mat1 = BaumWelch(Cn1, 75, Ck1, CxNotes.astype(int), 0.0001)\n",
    "Cit2, Cp2, Cpi2, Cphi2, CTmat2, CT2mat2 = BaumWelch(Cn2, 75, Ck2, CxVel.astype(int), 0.0001)\n",
    "\n",
    "Dit1, Dp1, Dpi1, Dphi1, DTmat1, DT2mat1 = BaumWelch(Dn1, 75, Dk1, DxNotes.astype(int), 0.0001)\n",
    "Dit2, Dp2, Dpi2, Dphi2, DTmat2, DT2mat2 = BaumWelch(Dn2, 75, Dk2, DxVel, 0.0001)\n",
    "\n",
    "\n",
    "Pit1, Pp1, Ppi1, Pphi1, PTmat1, PT2mat1 = BaumWelch(Pn1, 75, Pk1, PxNotes.astype(int), 0.0001)\n",
    "Pit2, Pp2, Ppi2, Pphi2, PTmat2, PT2mat2 = BaumWelch(Pn2, 75, Pk2, PxVel.astype(int), 0.0001)"
   ]
  },
  {
   "cell_type": "code",
   "execution_count": 26,
   "metadata": {
    "collapsed": false
   },
   "outputs": [],
   "source": [
    "def decode(x, code):\n",
    "    output = np.zeros(len(x))\n",
    "    for i in range(0, len(x)):\n",
    "        output[i] = code[x[i]]\n",
    "    return output"
   ]
  },
  {
   "cell_type": "code",
   "execution_count": 51,
   "metadata": {
    "collapsed": false
   },
   "outputs": [
    {
     "name": "stderr",
     "output_type": "stream",
     "text": [
      "/Users/annayanchenko/anaconda3/lib/python3.5/site-packages/ipykernel/__main__.py:4: DeprecationWarning: using a non-integer number instead of an integer will result in an error in the future\n"
     ]
    },
    {
     "data": {
      "text/plain": [
       "array([ 64.,  37.,  49., ...,  37.,  44.,  49.])"
      ]
     },
     "execution_count": 51,
     "metadata": {},
     "output_type": "execute_result"
    }
   ],
   "source": [
    "decode(xNotes,possibleNotes)"
   ]
  },
  {
   "cell_type": "code",
   "execution_count": 30,
   "metadata": {
    "collapsed": true
   },
   "outputs": [],
   "source": [
    "def hmm(n, pi, phi, Tmat, T2mat, code):\n",
    "    m = Tmat.shape[0]\n",
    "    k = phi.shape[1]\n",
    "    zstates = range(0, m)\n",
    "    xstates = range(0, k)\n",
    "    z = np.zeros(n)\n",
    "    x = np.zeros(n)\n",
    "    z[0] = np.random.choice(zstates, size = 1,  p = pi)\n",
    "    z[1] = np.random.choice(zstates, size = 1,  p = Tmat[z[0], :])\n",
    "    for j in range(2, n):\n",
    "        z[j] = np.random.choice(zstates, size = 1,  p = T2mat[z[j-2],z[j-1], :])\n",
    "    for i in range(0, n):\n",
    "        x[i] = np.random.choice(xstates, size =1, p = phi[z[i], :])\n",
    "    output = decode(x, code)\n",
    "    return output\n"
   ]
  },
  {
   "cell_type": "code",
   "execution_count": 34,
   "metadata": {
    "collapsed": false
   },
   "outputs": [
    {
     "data": {
      "text/plain": [
       "0.011695355479488755"
      ]
     },
     "execution_count": 34,
     "metadata": {},
     "output_type": "execute_result"
    }
   ],
   "source": [
    "zstates = range(0, m)\n",
    "Jpi1"
   ]
  },
  {
   "cell_type": "code",
   "execution_count": 47,
   "metadata": {
    "collapsed": false
   },
   "outputs": [
    {
     "name": "stderr",
     "output_type": "stream",
     "text": [
      "/Users/annayanchenko/anaconda3/lib/python3.5/site-packages/ipykernel/__main__.py:9: DeprecationWarning: using a non-integer number instead of an integer will result in an error in the future\n",
      "/Users/annayanchenko/anaconda3/lib/python3.5/site-packages/ipykernel/__main__.py:11: DeprecationWarning: using a non-integer number instead of an integer will result in an error in the future\n",
      "/Users/annayanchenko/anaconda3/lib/python3.5/site-packages/ipykernel/__main__.py:13: DeprecationWarning: using a non-integer number instead of an integer will result in an error in the future\n",
      "/Users/annayanchenko/anaconda3/lib/python3.5/site-packages/ipykernel/__main__.py:4: DeprecationWarning: using a non-integer number instead of an integer will result in an error in the future\n"
     ]
    }
   ],
   "source": [
    "#CnewNotes = hmm(Cn1, Cpi1, Cphi1, CTmat1, CT2mat1, CpossibleNotes)\n",
    "#CnewVelocities = hmm(Cn2, Cpi2, Cphi2, CTmat2, CT2mat2, CpossibleVelocities)\n",
    "\n",
    "# DnewNotes = hmm(Dn1, Dpi1, Dphi1, DTmat1, DpossibleNotes)\n",
    "# DnewVelocities = hmm(Dn2, Dpi2, Dphi2, DTmat2, DpossibleVelocities)\n",
    "\n",
    "JnewNotes = hmm(Jn1, Jpi1, Jphi1, JTmat1, JT2mat1, JpossibleNotes)\n",
    "JnewVelocities = hmm(Jn2, Jpi2, Jphi2, JTmat2, JT2mat2,JpossibleVelocities)\n",
    "\n",
    "# PnewNotes = hmm(Pn1, Ppi1, Pphi1, PTmat1, PpossibleNotes)\n",
    "# PnewVelocities = hmm(Pn2, Ppi2, Pphi2, PTmat2, PpossibleVelocities)"
   ]
  },
  {
   "cell_type": "code",
   "execution_count": 50,
   "metadata": {
    "collapsed": false
   },
   "outputs": [
    {
     "data": {
      "text/plain": [
       "array([ 34.,  36.,  38.,  39.,  41.,  43.,  44.,  46.,  48.,  50.,  51.,\n",
       "        53.,  55.,  56.,  58.,  60.,  62.,  63.,  65.,  67.,  68.,  70.,\n",
       "        72.,  74.,  75.,  77.,  79.])"
      ]
     },
     "execution_count": 50,
     "metadata": {},
     "output_type": "execute_result"
    }
   ],
   "source": [
    "JnewNotes[1:100]\n",
    "JpossibleNotes"
   ]
  },
  {
   "cell_type": "code",
   "execution_count": 42,
   "metadata": {
    "collapsed": false
   },
   "outputs": [],
   "source": [
    "# Coutput = pd.DataFrame(CnewNotes)\n",
    "# Coutput[\"vel\"] = CnewVelocities\n",
    "# Coutput.to_csv(\"clair-de-luneRemix.csv\")\n",
    "\n",
    "# Doutput = pd.DataFrame(DnewNotes)\n",
    "# Doutput[\"vel\"] = DnewVelocities\n",
    "# Doutput.to_csv(\"Dvorak9Remix.csv\")\n",
    "\n",
    "Joutput = pd.DataFrame(JnewNotes)\n",
    "Joutput[\"vel\"] = JnewVelocities\n",
    "Joutput.to_csv(\"jupiterRemix2.csv\")\n",
    "\n",
    "# Poutput = pd.DataFrame(PnewNotes)\n",
    "# Poutput[\"vel\"] = PnewVelocities\n",
    "# Poutput.to_csv(\"pachelbelRemix.csv\")"
   ]
  },
  {
   "cell_type": "code",
   "execution_count": null,
   "metadata": {
    "collapsed": true
   },
   "outputs": [],
   "source": []
  }
 ],
 "metadata": {
  "kernelspec": {
   "display_name": "Python 3",
   "language": "python",
   "name": "python3"
  },
  "language_info": {
   "codemirror_mode": {
    "name": "ipython",
    "version": 3
   },
   "file_extension": ".py",
   "mimetype": "text/x-python",
   "name": "python",
   "nbconvert_exporter": "python",
   "pygments_lexer": "ipython3",
   "version": "3.5.1"
  }
 },
 "nbformat": 4,
 "nbformat_minor": 0
}
