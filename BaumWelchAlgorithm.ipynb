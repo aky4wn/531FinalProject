{
 "cells": [
  {
   "cell_type": "code",
   "execution_count": 90,
   "metadata": {
    "collapsed": false,
    "scrolled": false
   },
   "outputs": [],
   "source": [
    "import numpy as np"
   ]
  },
  {
   "cell_type": "code",
   "execution_count": 1,
   "metadata": {
    "collapsed": false
   },
   "outputs": [],
   "source": [
    "#Function using the log-sum-exp trick#\n",
    "def logSumExp(a):\n",
    "    b = np.max(a)\n",
    "    return(b + np.log(np.sum(np.exp(a-b))))\n",
    "\n",
    "#####################\n",
    "##Forward Algorithm##\n",
    "#####################\n",
    "\n",
    "#Function to run forward algorithm, arguments are n = # obs, m = # states for z,#\n",
    "#k = # states for x, pi = initial distribution(m vector), \n",
    "#Tmat = transition matrix (mxm), phi = emission distribution (m x k matrix)#\n",
    "#x is the observed data#\n",
    "#takes log of pi, Tmat and phi\n",
    "\n",
    "def forwardAlg(n, m, k, pi, Tmat, phi, x):\n",
    "    g = np.zeros((n,m))\n",
    "    for i in range(0,m):\n",
    "        g[0,i] = (pi[i]) + (phi[i, x[0]])\n",
    "    \n",
    "    for j in range(1, n):\n",
    "        for l in range(0, m):\n",
    "            g[j,l] = logSumExp(g[j-1, :]+(Tmat[:,l])+(phi[l,x[j]-1]))\n",
    "    return(g)\n",
    "\n",
    "def pForward(g, x):\n",
    "    pXf = logSumExp(g[len(x)-1,:])\n",
    "    return(pXf)"
   ]
  },
  {
   "cell_type": "code",
   "execution_count": 52,
   "metadata": {
    "collapsed": false
   },
   "outputs": [],
   "source": [
    "x = np.loadtxt('x.txt')\n",
    "xNew = x - 1\n",
    "m = 10\n",
    "n = len(x)\n",
    "k = 59\n",
    "pi = np.full(m, 1/m)\n",
    "phi = np.full((m,k), 1/k)\n",
    "Tmat = np.full((m,m), 1/m)"
   ]
  },
  {
   "cell_type": "code",
   "execution_count": 53,
   "metadata": {
    "collapsed": false
   },
   "outputs": [
    {
     "name": "stderr",
     "output_type": "stream",
     "text": [
      "/Users/annayanchenko/anaconda3/lib/python3.5/site-packages/ipykernel/__main__.py:19: DeprecationWarning: using a non-integer number instead of an integer will result in an error in the future\n",
      "/Users/annayanchenko/anaconda3/lib/python3.5/site-packages/ipykernel/__main__.py:23: DeprecationWarning: using a non-integer number instead of an integer will result in an error in the future\n"
     ]
    },
    {
     "data": {
      "text/plain": [
       "-1190.640933620467"
      ]
     },
     "execution_count": 53,
     "metadata": {},
     "output_type": "execute_result"
    }
   ],
   "source": [
    "g = forwardAlg(n,m,k,np.log(pi),np.log(Tmat),np.log(phi),xNew)\n",
    "pXf = pForward(g,xNew)\n",
    "pXf"
   ]
  },
  {
   "cell_type": "code",
   "execution_count": 54,
   "metadata": {
    "collapsed": false
   },
   "outputs": [],
   "source": [
    "def backwardAlg(n, m, k, pi, Tmat, phi, x):\n",
    "    r = np.zeros((n,m))\n",
    "    for j in range(n-2, -1, -1):\n",
    "        for l in range(0, m):\n",
    "            r[j, l] = logSumExp(r[j+1,: ] + Tmat[l,:] + phi[:, x[j+1]])\n",
    "    \n",
    "    return(r)\n",
    "\n",
    "#Function to return p(x_1:n) from matrix from backward algorithm\n",
    "def pBackward(r, pi, phi, x):\n",
    "    pXb = logSumExp(r[0,: ]+ pi +phi[:,x[0]])\n",
    "    return(pXb)"
   ]
  },
  {
   "cell_type": "code",
   "execution_count": 55,
   "metadata": {
    "collapsed": false,
    "scrolled": true
   },
   "outputs": [
    {
     "name": "stderr",
     "output_type": "stream",
     "text": [
      "/Users/annayanchenko/anaconda3/lib/python3.5/site-packages/ipykernel/__main__.py:5: DeprecationWarning: using a non-integer number instead of an integer will result in an error in the future\n",
      "/Users/annayanchenko/anaconda3/lib/python3.5/site-packages/ipykernel/__main__.py:11: DeprecationWarning: using a non-integer number instead of an integer will result in an error in the future\n"
     ]
    },
    {
     "data": {
      "text/plain": [
       "-1190.640933620467"
      ]
     },
     "execution_count": 55,
     "metadata": {},
     "output_type": "execute_result"
    }
   ],
   "source": [
    "r = backwardAlg(n, m, k, np.log(pi), np.log(Tmat), np.log(phi), xNew)\n",
    "pBackward(r, np.log(pi), np.log(phi), xNew)"
   ]
  },
  {
   "cell_type": "code",
   "execution_count": 83,
   "metadata": {
    "collapsed": false
   },
   "outputs": [],
   "source": [
    "def BaumWelch(n, m, k, x, tol):\n",
    "    #randomly initialize pi, phi and T#\n",
    "    vals = np.random.rand(m)\n",
    "    pi = np.log(vals/np.sum(vals))\n",
    "    Tmat = np.zeros(shape = (m, m))\n",
    "    phi = np.zeros(shape = (m, k))\n",
    "    for i in range(0, m):\n",
    "        vals1 = np.random.rand(m)\n",
    "        Tmat[i, ] = np.log(vals1/np.sum(vals1))\n",
    "        vals2 = np.random.rand(k)\n",
    "        phi[i, ] = np.log(vals2/np.sum(vals2))\n",
    "    \n",
    "    iterations = 0\n",
    "    convergence = 0\n",
    "    pOld = 1E10\n",
    "    \n",
    "    #Initialize matricies for gamma and beta values#\n",
    "    gamma = np.zeros(shape = (n, m))\n",
    "    beta = np.zeros(shape = (n,m,m))\n",
    "    \n",
    "    #Stop iterations when log(p(x_1:n)) differs by tol between iterations#\n",
    "    while convergence == 0:\n",
    "        #Perform forward and backward algorithms# \n",
    "        g = forwardAlg(n, m, k, pi, Tmat, phi, x)\n",
    "        h = backwardAlg(n, m, k, pi, Tmat, phi, x)\n",
    "        pNew = pForward(g, x)\n",
    "        \n",
    "        ##E-Step##\n",
    "    \n",
    "        #Calculate gamma and beta#\n",
    "        for t in range(0, n):\n",
    "            gamma[t,] = g[t,] + h[t,] - pNew\n",
    "        for t in range(0, n):\n",
    "            for i in range(0, m):\n",
    "                for j in range(0, m):\n",
    "                    if t == 1:\n",
    "                        beta[t,i,j] = 1\n",
    "                    else:\n",
    "                        beta[t,i,j] = Tmat[i,j] + phi[j, x[t]] + g[t-1, i] + h[t, j] - pNew\n",
    "        ##M-Step##\n",
    "    \n",
    "        #Update pi, phi and Tmat#\n",
    "        pi = gamma[0,] - logSumExp(gamma[0,])\n",
    "        for i in range(0, m):\n",
    "            for j in range(0, m):\n",
    "                Tmat[i,j] = logSumExp(beta[range(1, n), i, j]) - logSumExp(beta[range(1,n), i, ])\n",
    "        for i in range(0,m):\n",
    "            for w in range(0, k):\n",
    "                indicies = np.where(x == w)\n",
    "                phi[i,w] = logSumExp(gamma[indicies, i]) - logSumExp(gamma[:,i])\n",
    "        \n",
    "        criteria = abs(pOld - pNew)\n",
    "        if criteria < tol:\n",
    "            convergence = 1\n",
    "        else:\n",
    "            convergence = 0\n",
    "            pOld = pNew\n",
    "            iterations +=1\n",
    "        return (iterations, pNew, np.exp(pi), np.exp(phi), np.exp(Tmat))\n",
    "        "
   ]
  },
  {
   "cell_type": "code",
   "execution_count": 117,
   "metadata": {
    "collapsed": false
   },
   "outputs": [
    {
     "name": "stderr",
     "output_type": "stream",
     "text": [
      "/Users/annayanchenko/anaconda3/lib/python3.5/site-packages/ipykernel/__main__.py:19: DeprecationWarning: using a non-integer number instead of an integer will result in an error in the future\n",
      "/Users/annayanchenko/anaconda3/lib/python3.5/site-packages/ipykernel/__main__.py:23: DeprecationWarning: using a non-integer number instead of an integer will result in an error in the future\n",
      "/Users/annayanchenko/anaconda3/lib/python3.5/site-packages/ipykernel/__main__.py:5: DeprecationWarning: using a non-integer number instead of an integer will result in an error in the future\n",
      "/Users/annayanchenko/anaconda3/lib/python3.5/site-packages/ipykernel/__main__.py:39: DeprecationWarning: using a non-integer number instead of an integer will result in an error in the future\n"
     ]
    }
   ],
   "source": [
    "it, p, pi, phi, Tmat = BaumWelch(n, 100, k, xNew, 1)"
   ]
  },
  {
   "cell_type": "code",
   "execution_count": 113,
   "metadata": {
    "collapsed": false
   },
   "outputs": [],
   "source": [
    "def decode(x, code):\n",
    "    output = \" \"\n",
    "    for i in range(0, len(x)):\n",
    "        output = output + \" \" + code[x[i]] \n",
    "    return output"
   ]
  },
  {
   "cell_type": "code",
   "execution_count": 102,
   "metadata": {
    "collapsed": false
   },
   "outputs": [],
   "source": [
    "codeTest = pd.read_table('code.txt', delimiter = \" \", header = None)\n",
    "words = codeTest.ix[:,1]"
   ]
  },
  {
   "cell_type": "code",
   "execution_count": 107,
   "metadata": {
    "collapsed": false
   },
   "outputs": [
    {
     "data": {
      "text/plain": [
       "0             .\n",
       "1             A\n",
       "2           The\n",
       "3             a\n",
       "4           air\n",
       "5           and\n",
       "6            at\n",
       "7           ate\n",
       "8          ball\n",
       "9        banana\n",
       "10          big\n",
       "11         bird\n",
       "12          bit\n",
       "13        black\n",
       "14         blue\n",
       "15        brown\n",
       "16          cat\n",
       "17       chased\n",
       "18      climbed\n",
       "19         cute\n",
       "20    delicious\n",
       "21          dog\n",
       "22          fat\n",
       "23         fish\n",
       "24     friendly\n",
       "25        green\n",
       "26          had\n",
       "27          hat\n",
       "28        house\n",
       "29       hungry\n",
       "30           in\n",
       "31       jumped\n",
       "32       little\n",
       "33         long\n",
       "34          man\n",
       "35         mean\n",
       "36       monkey\n",
       "37           on\n",
       "38       orange\n",
       "39       purple\n",
       "40          ran\n",
       "41     sandwich\n",
       "42          sat\n",
       "43          saw\n",
       "44        shirt\n",
       "45        short\n",
       "46        table\n",
       "47         tail\n",
       "48         tall\n",
       "49          the\n",
       "50        threw\n",
       "51        tiger\n",
       "52         tree\n",
       "53         ugly\n",
       "54        under\n",
       "55          was\n",
       "56         with\n",
       "57        woman\n",
       "58       yellow\n",
       "Name: 1, dtype: object"
      ]
     },
     "execution_count": 107,
     "metadata": {},
     "output_type": "execute_result"
    }
   ],
   "source": [
    "words"
   ]
  },
  {
   "cell_type": "code",
   "execution_count": 114,
   "metadata": {
    "collapsed": false
   },
   "outputs": [
    {
     "name": "stderr",
     "output_type": "stream",
     "text": [
      "/Users/annayanchenko/anaconda3/lib/python3.5/site-packages/ipykernel/__main__.py:4: FutureWarning: scalar indexers for index type Int64Index should be integers and not floating point\n"
     ]
    },
    {
     "data": {
      "text/plain": [
       "'  A little cute monkey was in a big green tree . A delicious yellow banana was in the tree . The little monkey ate the banana . A short man with a brown ugly hat and a tall woman with a blue shirt sat at a table . The woman had a cute little dog with a short tail . The man ate a big delicious sandwich . The dog ate the ugly hat under the table . A big ugly dog chased a little yellow cat . The cat climbed a tree . The dog sat under the tree . A woman saw the dog under the tree and threw a ball in the air . The dog chased the ball and the cat ran . A man had a little blue house . The man had a dog and a mean hungry cat and a purple fish . The cat ate the delicious fish . A big sandwich was on the table . The dog climbed the table and ate the sandwich . A short woman had a friendly monkey with a long brown tail and a little blue hat . The monkey climbed a tall tree and threw a green banana . The woman chased the banana . A mean orange tiger saw a little man and chased the man . A little black cat jumped on the tiger . The cat bit the tiger . The tiger ran . A fat cat in a green shirt sat at a big table . A friendly little blue bird sat in a tree . A big hungry black bird was in the air . The little bird chased the big bird and bit the big bird on the tail .'"
      ]
     },
     "execution_count": 114,
     "metadata": {},
     "output_type": "execute_result"
    }
   ],
   "source": [
    "decode(xNew, words)"
   ]
  },
  {
   "cell_type": "code",
   "execution_count": 115,
   "metadata": {
    "collapsed": true
   },
   "outputs": [],
   "source": [
    "def hmm(n, pi, phi, Tmat, code):\n",
    "    m = Tmat.shape[0]\n",
    "    k = phi.shape[1]\n",
    "    zstates = range(0, m)\n",
    "    xstates = range(0, k)\n",
    "    z = np.zeros(n)\n",
    "    x = np.zeros(n)\n",
    "    z[0] = np.random.choice(zstates, size = 1, p = pi)\n",
    "    for j in range(1, n):\n",
    "        z[j] = np.random.choice(zstates, size = 1, p = Tmat[z[j-1], :])\n",
    "    for i in range(0, n):\n",
    "        x[i] = np.random.choice(xstates, size = 1, p = phi[z[i], :])\n",
    "    output = decode(x, code)\n",
    "    return output\n"
   ]
  },
  {
   "cell_type": "code",
   "execution_count": 118,
   "metadata": {
    "collapsed": false
   },
   "outputs": [
    {
     "name": "stderr",
     "output_type": "stream",
     "text": [
      "/Users/annayanchenko/anaconda3/lib/python3.5/site-packages/ipykernel/__main__.py:10: DeprecationWarning: using a non-integer number instead of an integer will result in an error in the future\n",
      "/Users/annayanchenko/anaconda3/lib/python3.5/site-packages/ipykernel/__main__.py:12: DeprecationWarning: using a non-integer number instead of an integer will result in an error in the future\n",
      "/Users/annayanchenko/anaconda3/lib/python3.5/site-packages/ipykernel/__main__.py:4: FutureWarning: scalar indexers for index type Int64Index should be integers and not floating point\n"
     ]
    },
    {
     "data": {
      "text/plain": [
       "'  delicious man . in brown tree little little tail a hat man a The cute hat . and and A monkey green and . at . woman big dog ugly and . ate saw short table saw little sandwich friendly had The chased big blue banana at a under brown under ball The green chased ugly and A yellow tree . short The dog a A delicious cute short The dog The blue a a ran . little in cute . dog threw The monkey The chased the man dog dog the tiger in the ate the chased woman tree . and delicious banana a the threw was banana tree banana big banana tail cat was had A . shirt climbed shirt climbed ugly little The The a green in tail a dog big . had was ate the climbed fish The . cat ate man a A ate man tail ran brown A with monkey ball threw ate dog sandwich tree with The sat yellow monkey big dog dog ran ate green sat in a woman ugly ate with tree cute saw cute . big dog ugly yellow brown dog woman . cat ate tree a The bit in under yellow A . green cute banana with The monkey brown The monkey woman The monkey cute delicious . the ball woman short . a . . The a A with dog in hat a saw with hat . . and A short cute The cat a under the cat big air The delicious sat climbed cute in green . little brown A and ate a tree . banana The with tree . woman under yellow The The sat table sandwich the The banana in banana ate . house was . and'"
      ]
     },
     "execution_count": 118,
     "metadata": {},
     "output_type": "execute_result"
    }
   ],
   "source": [
    "hmm(n, pi, phi, Tmat, words)"
   ]
  },
  {
   "cell_type": "code",
   "execution_count": null,
   "metadata": {
    "collapsed": true
   },
   "outputs": [],
   "source": []
  }
 ],
 "metadata": {
  "kernelspec": {
   "display_name": "Python 3",
   "language": "python",
   "name": "python3"
  },
  "language_info": {
   "codemirror_mode": {
    "name": "ipython",
    "version": 3
   },
   "file_extension": ".py",
   "mimetype": "text/x-python",
   "name": "python",
   "nbconvert_exporter": "python",
   "pygments_lexer": "ipython3",
   "version": "3.5.1"
  }
 },
 "nbformat": 4,
 "nbformat_minor": 0
}
