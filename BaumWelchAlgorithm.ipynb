{
 "cells": [
  {
   "cell_type": "code",
   "execution_count": 90,
   "metadata": {
    "collapsed": false,
    "scrolled": false
   },
   "outputs": [],
   "source": [
    "import numpy as np"
   ]
  },
  {
   "cell_type": "code",
   "execution_count": 1,
   "metadata": {
    "collapsed": false
   },
   "outputs": [],
   "source": [
    "#Function using the log-sum-exp trick#\n",
    "def logSumExp(a):\n",
    "    b = np.max(a)\n",
    "    return(b + np.log(np.sum(np.exp(a-b))))\n",
    "\n",
    "#####################\n",
    "##Forward Algorithm##\n",
    "#####################\n",
    "\n",
    "#Function to run forward algorithm, arguments are n = # obs, m = # states for z,#\n",
    "#k = # states for x, pi = initial distribution(m vector), \n",
    "#Tmat = transition matrix (mxm), phi = emission distribution (m x k matrix)#\n",
    "#x is the observed data#\n",
    "#takes log of pi, Tmat and phi\n",
    "\n",
    "def forwardAlg(n, m, k, pi, Tmat, phi, x):\n",
    "    g = np.zeros((n,m))\n",
    "    for i in range(0,m):\n",
    "        g[0,i] = (pi[i]) + (phi[i, x[0]])\n",
    "    \n",
    "    for j in range(1, n):\n",
    "        for l in range(0, m):\n",
    "            g[j,l] = logSumExp(g[j-1, :]+(Tmat[:,l])+(phi[l,x[j]-1]))\n",
    "    return(g)\n",
    "\n",
    "def pForward(g, x):\n",
    "    pXf = logSumExp(g[len(x)-1,:])\n",
    "    return(pXf)"
   ]
  },
  {
   "cell_type": "code",
   "execution_count": 52,
   "metadata": {
    "collapsed": false
   },
   "outputs": [],
   "source": [
    "x = np.loadtxt('x.txt')\n",
    "xNew = x - 1\n",
    "m = 10\n",
    "n = len(x)\n",
    "k = 59\n",
    "pi = np.full(m, 1/m)\n",
    "phi = np.full((m,k), 1/k)\n",
    "Tmat = np.full((m,m), 1/m)"
   ]
  },
  {
   "cell_type": "code",
   "execution_count": 53,
   "metadata": {
    "collapsed": false
   },
   "outputs": [
    {
     "name": "stderr",
     "output_type": "stream",
     "text": [
      "/Users/annayanchenko/anaconda3/lib/python3.5/site-packages/ipykernel/__main__.py:19: DeprecationWarning: using a non-integer number instead of an integer will result in an error in the future\n",
      "/Users/annayanchenko/anaconda3/lib/python3.5/site-packages/ipykernel/__main__.py:23: DeprecationWarning: using a non-integer number instead of an integer will result in an error in the future\n"
     ]
    },
    {
     "data": {
      "text/plain": [
       "-1190.640933620467"
      ]
     },
     "execution_count": 53,
     "metadata": {},
     "output_type": "execute_result"
    }
   ],
   "source": [
    "g = forwardAlg(n,m,k,np.log(pi),np.log(Tmat),np.log(phi),xNew)\n",
    "pXf = pForward(g,xNew)\n",
    "pXf"
   ]
  },
  {
   "cell_type": "code",
   "execution_count": 54,
   "metadata": {
    "collapsed": false
   },
   "outputs": [],
   "source": [
    "def backwardAlg(n, m, k, pi, Tmat, phi, x):\n",
    "    r = np.zeros((n,m))\n",
    "    for j in range(n-2, -1, -1):\n",
    "        for l in range(0, m):\n",
    "            r[j, l] = logSumExp(r[j+1,: ] + Tmat[l,:] + phi[:, x[j+1]])\n",
    "    \n",
    "    return(r)\n",
    "\n",
    "#Function to return p(x_1:n) from matrix from backward algorithm\n",
    "def pBackward(r, pi, phi, x):\n",
    "    pXb = logSumExp(r[0,: ]+ pi +phi[:,x[0]])\n",
    "    return(pXb)"
   ]
  },
  {
   "cell_type": "code",
   "execution_count": 55,
   "metadata": {
    "collapsed": false,
    "scrolled": true
   },
   "outputs": [
    {
     "name": "stderr",
     "output_type": "stream",
     "text": [
      "/Users/annayanchenko/anaconda3/lib/python3.5/site-packages/ipykernel/__main__.py:5: DeprecationWarning: using a non-integer number instead of an integer will result in an error in the future\n",
      "/Users/annayanchenko/anaconda3/lib/python3.5/site-packages/ipykernel/__main__.py:11: DeprecationWarning: using a non-integer number instead of an integer will result in an error in the future\n"
     ]
    },
    {
     "data": {
      "text/plain": [
       "-1190.640933620467"
      ]
     },
     "execution_count": 55,
     "metadata": {},
     "output_type": "execute_result"
    }
   ],
   "source": [
    "r = backwardAlg(n, m, k, np.log(pi), np.log(Tmat), np.log(phi), xNew)\n",
    "pBackward(r, np.log(pi), np.log(phi), xNew)"
   ]
  },
  {
   "cell_type": "code",
   "execution_count": null,
   "metadata": {
    "collapsed": true
   },
   "outputs": [],
   "source": []
  }
 ],
 "metadata": {
  "kernelspec": {
   "display_name": "Python 3",
   "language": "python",
   "name": "python3"
  },
  "language_info": {
   "codemirror_mode": {
    "name": "ipython",
    "version": 3
   },
   "file_extension": ".py",
   "mimetype": "text/x-python",
   "name": "python",
   "nbconvert_exporter": "python",
   "pygments_lexer": "ipython3",
   "version": "3.5.1"
  }
 },
 "nbformat": 4,
 "nbformat_minor": 0
}
